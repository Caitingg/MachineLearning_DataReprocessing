{
  "nbformat": 4,
  "nbformat_minor": 0,
  "metadata": {
    "colab": {
      "provenance": [],
      "authorship_tag": "ABX9TyMwmJFZzpmzmU21+2wvZbgu",
      "include_colab_link": true
    },
    "kernelspec": {
      "name": "python3",
      "display_name": "Python 3"
    },
    "language_info": {
      "name": "python"
    }
  },
  "cells": [
    {
      "cell_type": "markdown",
      "metadata": {
        "id": "view-in-github",
        "colab_type": "text"
      },
      "source": [
        "<a href=\"https://colab.research.google.com/github/Caitingg/MachineLearning_DataReprocessing/blob/main/PracticalWeek02.ipynb\" target=\"_parent\"><img src=\"https://colab.research.google.com/assets/colab-badge.svg\" alt=\"Open In Colab\"/></a>"
      ]
    },
    {
      "cell_type": "code",
      "execution_count": null,
      "metadata": {
        "id": "fUYENUgk7bRX"
      },
      "outputs": [],
      "source": [
        "\n",
        "from IPython.display import HTML, display\n",
        "\n",
        "def set_css():\n",
        "  display(HTML('''\n",
        "  <style>\n",
        "    pre {\n",
        "        white-space: pre-wrap;\n",
        "    }\n",
        "  </style>\n",
        "  '''))\n",
        "get_ipython().events.register('pre_run_cell', set_css)\n"
      ]
    },
    {
      "cell_type": "code",
      "source": [
        "import io\n",
        "import requests\n",
        "from google.colab import drive\n",
        "drive.mount('/content/gdrive', force_remount=True)"
      ],
      "metadata": {
        "colab": {
          "base_uri": "https://localhost:8080/",
          "height": 34
        },
        "id": "lvxuOYbK99G_",
        "outputId": "80751dd0-b7d2-43f8-a91c-c50a7aa98595"
      },
      "execution_count": null,
      "outputs": [
        {
          "output_type": "display_data",
          "data": {
            "text/plain": [
              "<IPython.core.display.HTML object>"
            ],
            "text/html": [
              "\n",
              "  <style>\n",
              "    pre {\n",
              "        white-space: pre-wrap;\n",
              "    }\n",
              "  </style>\n",
              "  "
            ]
          },
          "metadata": {}
        },
        {
          "output_type": "stream",
          "name": "stdout",
          "text": [
            "Mounted at /content/gdrive\n"
          ]
        }
      ]
    },
    {
      "cell_type": "code",
      "source": [
        "\n",
        "import pandas as pd\n",
        "DATA_DIR_1 = \"/content/Banking_Marketing.csv\"\n",
        "Banking_Marketing_df = pd.read_csv (DATA_DIR_1, header=0)"
      ],
      "metadata": {
        "colab": {
          "base_uri": "https://localhost:8080/",
          "height": 17
        },
        "id": "Smgft8nC-ZCZ",
        "outputId": "67a88103-5f12-4144-e87c-4dc74deed0b5"
      },
      "execution_count": null,
      "outputs": [
        {
          "output_type": "display_data",
          "data": {
            "text/plain": [
              "<IPython.core.display.HTML object>"
            ],
            "text/html": [
              "\n",
              "  <style>\n",
              "    pre {\n",
              "        white-space: pre-wrap;\n",
              "    }\n",
              "  </style>\n",
              "  "
            ]
          },
          "metadata": {}
        }
      ]
    },
    {
      "cell_type": "code",
      "source": [
        "print (Banking_Marketing_df.dtypes)"
      ],
      "metadata": {
        "colab": {
          "base_uri": "https://localhost:8080/",
          "height": 399
        },
        "id": "1Vs7tzOB-0u9",
        "outputId": "79e5ce9d-7e8e-4db3-b1e9-dd72fc2a814c"
      },
      "execution_count": null,
      "outputs": [
        {
          "output_type": "display_data",
          "data": {
            "text/plain": [
              "<IPython.core.display.HTML object>"
            ],
            "text/html": [
              "\n",
              "  <style>\n",
              "    pre {\n",
              "        white-space: pre-wrap;\n",
              "    }\n",
              "  </style>\n",
              "  "
            ]
          },
          "metadata": {}
        },
        {
          "output_type": "stream",
          "name": "stdout",
          "text": [
            "age               float64\n",
            "job                object\n",
            "marital            object\n",
            "education          object\n",
            "default            object\n",
            "housing            object\n",
            "loan               object\n",
            "contact            object\n",
            "month              object\n",
            "day_of_week        object\n",
            "duration          float64\n",
            "campaign            int64\n",
            "pdays               int64\n",
            "previous            int64\n",
            "poutcome           object\n",
            "emp_var_rate      float64\n",
            "cons_price_idx    float64\n",
            "cons_conf_idx     float64\n",
            "euribor3m         float64\n",
            "nr_employed       float64\n",
            "y                   int64\n",
            "dtype: object\n"
          ]
        }
      ]
    },
    {
      "cell_type": "code",
      "source": [
        "print(\"Find missing value of each column using isna()\")\n",
        "print (Banking_Marketing_df.isna().sum())"
      ],
      "metadata": {
        "colab": {
          "base_uri": "https://localhost:8080/",
          "height": 416
        },
        "id": "nlXDqwR-_Nl7",
        "outputId": "9b3d486d-a80c-46ba-c98c-9c4468dfcc14"
      },
      "execution_count": null,
      "outputs": [
        {
          "output_type": "display_data",
          "data": {
            "text/plain": [
              "<IPython.core.display.HTML object>"
            ],
            "text/html": [
              "\n",
              "  <style>\n",
              "    pre {\n",
              "        white-space: pre-wrap;\n",
              "    }\n",
              "  </style>\n",
              "  "
            ]
          },
          "metadata": {}
        },
        {
          "output_type": "stream",
          "name": "stdout",
          "text": [
            "Find missing value of each column using isna()\n",
            "age               2\n",
            "job               0\n",
            "marital           0\n",
            "education         0\n",
            "default           0\n",
            "housing           0\n",
            "loan              0\n",
            "contact           6\n",
            "month             0\n",
            "day_of_week       0\n",
            "duration          7\n",
            "campaign          0\n",
            "pdays             0\n",
            "previous          0\n",
            "poutcome          0\n",
            "emp_var_rate      0\n",
            "cons_price_idx    0\n",
            "cons_conf_idx     0\n",
            "euribor3m         0\n",
            "nr_employed       0\n",
            "y                 0\n",
            "dtype: int64\n"
          ]
        }
      ]
    },
    {
      "cell_type": "code",
      "source": [
        "print(\"\\nRemove all rows with missing data by using dropna()\")\n",
        "data = Banking_Marketing_df.dropna ()\n",
        "print(data.isna().sum())"
      ],
      "metadata": {
        "colab": {
          "base_uri": "https://localhost:8080/",
          "height": 433
        },
        "id": "r9DfLcZl_opN",
        "outputId": "01c71f14-01ea-41b5-f61b-9e95d8360daf"
      },
      "execution_count": null,
      "outputs": [
        {
          "output_type": "display_data",
          "data": {
            "text/plain": [
              "<IPython.core.display.HTML object>"
            ],
            "text/html": [
              "\n",
              "  <style>\n",
              "    pre {\n",
              "        white-space: pre-wrap;\n",
              "    }\n",
              "  </style>\n",
              "  "
            ]
          },
          "metadata": {}
        },
        {
          "output_type": "stream",
          "name": "stdout",
          "text": [
            "\n",
            "Remove all rows with missing data by using dropna()\n",
            "age               0\n",
            "job               0\n",
            "marital           0\n",
            "education         0\n",
            "default           0\n",
            "housing           0\n",
            "loan              0\n",
            "contact           0\n",
            "month             0\n",
            "day_of_week       0\n",
            "duration          0\n",
            "campaign          0\n",
            "pdays             0\n",
            "previous          0\n",
            "poutcome          0\n",
            "emp_var_rate      0\n",
            "cons_price_idx    0\n",
            "cons_conf_idx     0\n",
            "euribor3m         0\n",
            "nr_employed       0\n",
            "y                 0\n",
            "dtype: int64\n"
          ]
        }
      ]
    },
    {
      "cell_type": "code",
      "source": [
        "print(Banking_Marketing_df.isna().sum())"
      ],
      "metadata": {
        "colab": {
          "base_uri": "https://localhost:8080/",
          "height": 399
        },
        "id": "lCTlldUjAnGA",
        "outputId": "82740dbd-a2f0-44a5-f9ab-0e0ae06dfab2"
      },
      "execution_count": null,
      "outputs": [
        {
          "output_type": "display_data",
          "data": {
            "text/plain": [
              "<IPython.core.display.HTML object>"
            ],
            "text/html": [
              "\n",
              "  <style>\n",
              "    pre {\n",
              "        white-space: pre-wrap;\n",
              "    }\n",
              "  </style>\n",
              "  "
            ]
          },
          "metadata": {}
        },
        {
          "output_type": "stream",
          "name": "stdout",
          "text": [
            "age               2\n",
            "job               0\n",
            "marital           0\n",
            "education         0\n",
            "default           0\n",
            "housing           0\n",
            "loan              0\n",
            "contact           6\n",
            "month             0\n",
            "day_of_week       0\n",
            "duration          7\n",
            "campaign          0\n",
            "pdays             0\n",
            "previous          0\n",
            "poutcome          0\n",
            "emp_var_rate      0\n",
            "cons_price_idx    0\n",
            "cons_conf_idx     0\n",
            "euribor3m         0\n",
            "nr_employed       0\n",
            "y                 0\n",
            "dtype: int64\n"
          ]
        }
      ]
    },
    {
      "cell_type": "code",
      "source": [
        "mean_age = Banking_Marketing_df.age.mean ()\n",
        "print()\n",
        "print (\"Mean age: %.2f\" % mean_age)\n",
        "\n",
        "Banking_Marketing_df.age.fillna(mean_age, inplace=True)\n",
        "print(\"\\nImpute missing data with mean value:\")\n",
        "print (Banking_Marketing_df.isna().sum())"
      ],
      "metadata": {
        "colab": {
          "base_uri": "https://localhost:8080/",
          "height": 468
        },
        "id": "GHQ7B6TlAo1V",
        "outputId": "b9df8faa-35bb-4e0a-84f4-09046784ea3b"
      },
      "execution_count": null,
      "outputs": [
        {
          "output_type": "display_data",
          "data": {
            "text/plain": [
              "<IPython.core.display.HTML object>"
            ],
            "text/html": [
              "\n",
              "  <style>\n",
              "    pre {\n",
              "        white-space: pre-wrap;\n",
              "    }\n",
              "  </style>\n",
              "  "
            ]
          },
          "metadata": {}
        },
        {
          "output_type": "stream",
          "name": "stdout",
          "text": [
            "\n",
            "Mean age: 40.02\n",
            "\n",
            "Impute missing data with mean value:\n",
            "age               0\n",
            "job               0\n",
            "marital           0\n",
            "education         0\n",
            "default           0\n",
            "housing           0\n",
            "loan              0\n",
            "contact           6\n",
            "month             0\n",
            "day_of_week       0\n",
            "duration          7\n",
            "campaign          0\n",
            "pdays             0\n",
            "previous          0\n",
            "poutcome          0\n",
            "emp_var_rate      0\n",
            "cons_price_idx    0\n",
            "cons_conf_idx     0\n",
            "euribor3m         0\n",
            "nr_employed       0\n",
            "y                 0\n",
            "dtype: int64\n"
          ]
        }
      ]
    },
    {
      "cell_type": "code",
      "source": [
        "median_duration = Banking_Marketing_df.duration.median()\n",
        "print (\"\\nMedian duration: %.2f\" % median_duration)\n",
        "\n",
        "Banking_Marketing_df.duration.fillna(median_duration, inplace=True)\n",
        "print(\"\\nImpute missing data with median value:\")\n",
        "print (Banking_Marketing_df.isna().sum())"
      ],
      "metadata": {
        "colab": {
          "base_uri": "https://localhost:8080/",
          "height": 468
        },
        "id": "lS-AgHQ-CvBW",
        "outputId": "ba9bbad4-8c56-443a-be05-078cf7b0f3d2"
      },
      "execution_count": null,
      "outputs": [
        {
          "output_type": "display_data",
          "data": {
            "text/plain": [
              "<IPython.core.display.HTML object>"
            ],
            "text/html": [
              "\n",
              "  <style>\n",
              "    pre {\n",
              "        white-space: pre-wrap;\n",
              "    }\n",
              "  </style>\n",
              "  "
            ]
          },
          "metadata": {}
        },
        {
          "output_type": "stream",
          "name": "stdout",
          "text": [
            "\n",
            "Median duration: 180.00\n",
            "\n",
            "Impute missing data with median value:\n",
            "age               0\n",
            "job               0\n",
            "marital           0\n",
            "education         0\n",
            "default           0\n",
            "housing           0\n",
            "loan              0\n",
            "contact           6\n",
            "month             0\n",
            "day_of_week       0\n",
            "duration          0\n",
            "campaign          0\n",
            "pdays             0\n",
            "previous          0\n",
            "poutcome          0\n",
            "emp_var_rate      0\n",
            "cons_price_idx    0\n",
            "cons_conf_idx     0\n",
            "euribor3m         0\n",
            "nr_employed       0\n",
            "y                 0\n",
            "dtype: int64\n"
          ]
        }
      ]
    },
    {
      "cell_type": "code",
      "source": [
        "# Computation of the Mean value by using mean ()\n",
        "mean_age = Banking_Marketing_df.age.mean ()\n",
        "print()\n",
        "print (\"Mean age: %.2f\" % mean_age)\n",
        "\n",
        "# Impute the missing data with its mean by using fillna ()\n",
        "Banking_Marketing_df.age.fillna(mean_age, inplace=True)\n",
        "print(\"\\nImpute missing data with mean value:\")\n",
        "print (Banking_Marketing_df.isna().sum())\n",
        "\n",
        "# Computation of Median value by using median ()\n",
        "# used median because the 'duration' variable is too diverse\n",
        "median_duration = Banking_Marketing_df.duration.median()\n",
        "print (\"\\nMedian duration: %.2f\" % median_duration)\n",
        "\n",
        "# Impute the missing data with its median by using fillna ()\n",
        "Banking_Marketing_df.duration.fillna(median_duration, inplace=True)\n",
        "print(\"\\nImpute missing data with median value:\")\n",
        "print (Banking_Marketing_df.isna().sum())\n",
        "\n",
        "# Impute Categorical Data with its mode by using mode ()\n",
        "# find out the mode\n",
        "mode_contact = Banking_Marketing_df.contact.mode()[0]\n",
        "print(\"\\nImpute categorical data with its mode:\")\n",
        "print (mode_contact)\n",
        "\n",
        "# impute using fillna. Used mode to find the most popular contact\n",
        "Banking_Marketing_df.contact.fillna (mode_contact, inplace = True)\n",
        "print(\"\\nImpute missing data with mode (most popular contact):\")\n",
        "print (Banking_Marketing_df.isna().sum())"
      ],
      "metadata": {
        "colab": {
          "base_uri": "https://localhost:8080/",
          "height": 1000
        },
        "id": "SRf1-zQ_ergu",
        "outputId": "c24774fc-445b-4b7e-d760-39b25373b697"
      },
      "execution_count": null,
      "outputs": [
        {
          "output_type": "display_data",
          "data": {
            "text/plain": [
              "<IPython.core.display.HTML object>"
            ],
            "text/html": [
              "\n",
              "  <style>\n",
              "    pre {\n",
              "        white-space: pre-wrap;\n",
              "    }\n",
              "  </style>\n",
              "  "
            ]
          },
          "metadata": {}
        },
        {
          "output_type": "stream",
          "name": "stdout",
          "text": [
            "\n",
            "Mean age: 40.02\n",
            "\n",
            "Impute missing data with mean value:\n",
            "age               0\n",
            "job               0\n",
            "marital           0\n",
            "education         0\n",
            "default           0\n",
            "housing           0\n",
            "loan              0\n",
            "contact           6\n",
            "month             0\n",
            "day_of_week       0\n",
            "duration          0\n",
            "campaign          0\n",
            "pdays             0\n",
            "previous          0\n",
            "poutcome          0\n",
            "emp_var_rate      0\n",
            "cons_price_idx    0\n",
            "cons_conf_idx     0\n",
            "euribor3m         0\n",
            "nr_employed       0\n",
            "y                 0\n",
            "dtype: int64\n",
            "\n",
            "Median duration: 180.00\n",
            "\n",
            "Impute missing data with median value:\n",
            "age               0\n",
            "job               0\n",
            "marital           0\n",
            "education         0\n",
            "default           0\n",
            "housing           0\n",
            "loan              0\n",
            "contact           6\n",
            "month             0\n",
            "day_of_week       0\n",
            "duration          0\n",
            "campaign          0\n",
            "pdays             0\n",
            "previous          0\n",
            "poutcome          0\n",
            "emp_var_rate      0\n",
            "cons_price_idx    0\n",
            "cons_conf_idx     0\n",
            "euribor3m         0\n",
            "nr_employed       0\n",
            "y                 0\n",
            "dtype: int64\n",
            "\n",
            "Impute categorical data with its mode:\n",
            "cellular\n",
            "\n",
            "Impute missing data with mode (most popular contact):\n",
            "age               0\n",
            "job               0\n",
            "marital           0\n",
            "education         0\n",
            "default           0\n",
            "housing           0\n",
            "loan              0\n",
            "contact           0\n",
            "month             0\n",
            "day_of_week       0\n",
            "duration          0\n",
            "campaign          0\n",
            "pdays             0\n",
            "previous          0\n",
            "poutcome          0\n",
            "emp_var_rate      0\n",
            "cons_price_idx    0\n",
            "cons_conf_idx     0\n",
            "euribor3m         0\n",
            "nr_employed       0\n",
            "y                 0\n",
            "dtype: int64\n"
          ]
        }
      ]
    }
  ]
}