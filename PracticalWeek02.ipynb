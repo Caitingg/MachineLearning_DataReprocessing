{
  "nbformat": 4,
  "nbformat_minor": 0,
  "metadata": {
    "colab": {
      "provenance": [],
      "authorship_tag": "ABX9TyNPAJFCtQximFS+u/BJLuZt",
      "include_colab_link": true
    },
    "kernelspec": {
      "name": "python3",
      "display_name": "Python 3"
    },
    "language_info": {
      "name": "python"
    }
  },
  "cells": [
    {
      "cell_type": "markdown",
      "metadata": {
        "id": "view-in-github",
        "colab_type": "text"
      },
      "source": [
        "<a href=\"https://colab.research.google.com/github/Caitingg/MachineLearning_DataReprocessing/blob/main/PracticalWeek02.ipynb\" target=\"_parent\"><img src=\"https://colab.research.google.com/assets/colab-badge.svg\" alt=\"Open In Colab\"/></a>"
      ]
    },
    {
      "cell_type": "code",
      "execution_count": null,
      "metadata": {
        "id": "fUYENUgk7bRX"
      },
      "outputs": [],
      "source": [
        "\n",
        "from IPython.display import HTML, display\n",
        "\n",
        "def set_css():\n",
        "  display(HTML('''\n",
        "  <style>\n",
        "    pre {\n",
        "        white-space: pre-wrap;\n",
        "    }\n",
        "  </style>\n",
        "  '''))\n",
        "get_ipython().events.register('pre_run_cell', set_css)\n"
      ]
    },
    {
      "cell_type": "code",
      "source": [
        "import io\n",
        "import requests\n",
        "from google.colab import drive\n",
        "drive.mount('/content/gdrive', force_remount=True)"
      ],
      "metadata": {
        "colab": {
          "base_uri": "https://localhost:8080/",
          "height": 34
        },
        "id": "lvxuOYbK99G_",
        "outputId": "80751dd0-b7d2-43f8-a91c-c50a7aa98595"
      },
      "execution_count": null,
      "outputs": [
        {
          "output_type": "display_data",
          "data": {
            "text/plain": [
              "<IPython.core.display.HTML object>"
            ],
            "text/html": [
              "\n",
              "  <style>\n",
              "    pre {\n",
              "        white-space: pre-wrap;\n",
              "    }\n",
              "  </style>\n",
              "  "
            ]
          },
          "metadata": {}
        },
        {
          "output_type": "stream",
          "name": "stdout",
          "text": [
            "Mounted at /content/gdrive\n"
          ]
        }
      ]
    },
    {
      "cell_type": "code",
      "source": [
        "\n",
        "import pandas as pd\n",
        "DATA_DIR_1 = \"/content/Banking_Marketing.csv\"\n",
        "Banking_Marketing_df = pd.read_csv (DATA_DIR_1, header=0)"
      ],
      "metadata": {
        "colab": {
          "base_uri": "https://localhost:8080/",
          "height": 17
        },
        "id": "Smgft8nC-ZCZ",
        "outputId": "67a88103-5f12-4144-e87c-4dc74deed0b5"
      },
      "execution_count": null,
      "outputs": [
        {
          "output_type": "display_data",
          "data": {
            "text/plain": [
              "<IPython.core.display.HTML object>"
            ],
            "text/html": [
              "\n",
              "  <style>\n",
              "    pre {\n",
              "        white-space: pre-wrap;\n",
              "    }\n",
              "  </style>\n",
              "  "
            ]
          },
          "metadata": {}
        }
      ]
    },
    {
      "cell_type": "code",
      "source": [
        "print (Banking_Marketing_df.dtypes)"
      ],
      "metadata": {
        "colab": {
          "base_uri": "https://localhost:8080/",
          "height": 399
        },
        "id": "1Vs7tzOB-0u9",
        "outputId": "79e5ce9d-7e8e-4db3-b1e9-dd72fc2a814c"
      },
      "execution_count": null,
      "outputs": [
        {
          "output_type": "display_data",
          "data": {
            "text/plain": [
              "<IPython.core.display.HTML object>"
            ],
            "text/html": [
              "\n",
              "  <style>\n",
              "    pre {\n",
              "        white-space: pre-wrap;\n",
              "    }\n",
              "  </style>\n",
              "  "
            ]
          },
          "metadata": {}
        },
        {
          "output_type": "stream",
          "name": "stdout",
          "text": [
            "age               float64\n",
            "job                object\n",
            "marital            object\n",
            "education          object\n",
            "default            object\n",
            "housing            object\n",
            "loan               object\n",
            "contact            object\n",
            "month              object\n",
            "day_of_week        object\n",
            "duration          float64\n",
            "campaign            int64\n",
            "pdays               int64\n",
            "previous            int64\n",
            "poutcome           object\n",
            "emp_var_rate      float64\n",
            "cons_price_idx    float64\n",
            "cons_conf_idx     float64\n",
            "euribor3m         float64\n",
            "nr_employed       float64\n",
            "y                   int64\n",
            "dtype: object\n"
          ]
        }
      ]
    },
    {
      "cell_type": "code",
      "source": [
        "print(\"Find missing value of each column using isna()\")\n",
        "print (Banking_Marketing_df.isna().sum())"
      ],
      "metadata": {
        "colab": {
          "base_uri": "https://localhost:8080/",
          "height": 416
        },
        "id": "nlXDqwR-_Nl7",
        "outputId": "9b3d486d-a80c-46ba-c98c-9c4468dfcc14"
      },
      "execution_count": null,
      "outputs": [
        {
          "output_type": "display_data",
          "data": {
            "text/plain": [
              "<IPython.core.display.HTML object>"
            ],
            "text/html": [
              "\n",
              "  <style>\n",
              "    pre {\n",
              "        white-space: pre-wrap;\n",
              "    }\n",
              "  </style>\n",
              "  "
            ]
          },
          "metadata": {}
        },
        {
          "output_type": "stream",
          "name": "stdout",
          "text": [
            "Find missing value of each column using isna()\n",
            "age               2\n",
            "job               0\n",
            "marital           0\n",
            "education         0\n",
            "default           0\n",
            "housing           0\n",
            "loan              0\n",
            "contact           6\n",
            "month             0\n",
            "day_of_week       0\n",
            "duration          7\n",
            "campaign          0\n",
            "pdays             0\n",
            "previous          0\n",
            "poutcome          0\n",
            "emp_var_rate      0\n",
            "cons_price_idx    0\n",
            "cons_conf_idx     0\n",
            "euribor3m         0\n",
            "nr_employed       0\n",
            "y                 0\n",
            "dtype: int64\n"
          ]
        }
      ]
    },
    {
      "cell_type": "code",
      "source": [
        "print(\"\\nRemove all rows with missing data by using dropna()\")\n",
        "data = Banking_Marketing_df.dropna ()\n",
        "print(data.isna().sum())"
      ],
      "metadata": {
        "colab": {
          "base_uri": "https://localhost:8080/",
          "height": 433
        },
        "id": "r9DfLcZl_opN",
        "outputId": "01c71f14-01ea-41b5-f61b-9e95d8360daf"
      },
      "execution_count": null,
      "outputs": [
        {
          "output_type": "display_data",
          "data": {
            "text/plain": [
              "<IPython.core.display.HTML object>"
            ],
            "text/html": [
              "\n",
              "  <style>\n",
              "    pre {\n",
              "        white-space: pre-wrap;\n",
              "    }\n",
              "  </style>\n",
              "  "
            ]
          },
          "metadata": {}
        },
        {
          "output_type": "stream",
          "name": "stdout",
          "text": [
            "\n",
            "Remove all rows with missing data by using dropna()\n",
            "age               0\n",
            "job               0\n",
            "marital           0\n",
            "education         0\n",
            "default           0\n",
            "housing           0\n",
            "loan              0\n",
            "contact           0\n",
            "month             0\n",
            "day_of_week       0\n",
            "duration          0\n",
            "campaign          0\n",
            "pdays             0\n",
            "previous          0\n",
            "poutcome          0\n",
            "emp_var_rate      0\n",
            "cons_price_idx    0\n",
            "cons_conf_idx     0\n",
            "euribor3m         0\n",
            "nr_employed       0\n",
            "y                 0\n",
            "dtype: int64\n"
          ]
        }
      ]
    },
    {
      "cell_type": "code",
      "source": [
        "print(Banking_Marketing_df.isna().sum())"
      ],
      "metadata": {
        "colab": {
          "base_uri": "https://localhost:8080/",
          "height": 399
        },
        "id": "lCTlldUjAnGA",
        "outputId": "82740dbd-a2f0-44a5-f9ab-0e0ae06dfab2"
      },
      "execution_count": null,
      "outputs": [
        {
          "output_type": "display_data",
          "data": {
            "text/plain": [
              "<IPython.core.display.HTML object>"
            ],
            "text/html": [
              "\n",
              "  <style>\n",
              "    pre {\n",
              "        white-space: pre-wrap;\n",
              "    }\n",
              "  </style>\n",
              "  "
            ]
          },
          "metadata": {}
        },
        {
          "output_type": "stream",
          "name": "stdout",
          "text": [
            "age               2\n",
            "job               0\n",
            "marital           0\n",
            "education         0\n",
            "default           0\n",
            "housing           0\n",
            "loan              0\n",
            "contact           6\n",
            "month             0\n",
            "day_of_week       0\n",
            "duration          7\n",
            "campaign          0\n",
            "pdays             0\n",
            "previous          0\n",
            "poutcome          0\n",
            "emp_var_rate      0\n",
            "cons_price_idx    0\n",
            "cons_conf_idx     0\n",
            "euribor3m         0\n",
            "nr_employed       0\n",
            "y                 0\n",
            "dtype: int64\n"
          ]
        }
      ]
    },
    {
      "cell_type": "code",
      "source": [
        "mean_age = Banking_Marketing_df.age.mean ()\n",
        "print()\n",
        "print (\"Mean age: %.2f\" % mean_age)\n",
        "\n",
        "Banking_Marketing_df.age.fillna(mean_age, inplace=True)\n",
        "print(\"\\nImpute missing data with mean value:\")\n",
        "print (Banking_Marketing_df.isna().sum())"
      ],
      "metadata": {
        "colab": {
          "base_uri": "https://localhost:8080/",
          "height": 468
        },
        "id": "GHQ7B6TlAo1V",
        "outputId": "b9df8faa-35bb-4e0a-84f4-09046784ea3b"
      },
      "execution_count": null,
      "outputs": [
        {
          "output_type": "display_data",
          "data": {
            "text/plain": [
              "<IPython.core.display.HTML object>"
            ],
            "text/html": [
              "\n",
              "  <style>\n",
              "    pre {\n",
              "        white-space: pre-wrap;\n",
              "    }\n",
              "  </style>\n",
              "  "
            ]
          },
          "metadata": {}
        },
        {
          "output_type": "stream",
          "name": "stdout",
          "text": [
            "\n",
            "Mean age: 40.02\n",
            "\n",
            "Impute missing data with mean value:\n",
            "age               0\n",
            "job               0\n",
            "marital           0\n",
            "education         0\n",
            "default           0\n",
            "housing           0\n",
            "loan              0\n",
            "contact           6\n",
            "month             0\n",
            "day_of_week       0\n",
            "duration          7\n",
            "campaign          0\n",
            "pdays             0\n",
            "previous          0\n",
            "poutcome          0\n",
            "emp_var_rate      0\n",
            "cons_price_idx    0\n",
            "cons_conf_idx     0\n",
            "euribor3m         0\n",
            "nr_employed       0\n",
            "y                 0\n",
            "dtype: int64\n"
          ]
        }
      ]
    },
    {
      "cell_type": "code",
      "source": [
        "median_duration = Banking_Marketing_df.duration.median()\n",
        "print (\"\\nMedian duration: %.2f\" % median_duration)\n",
        "\n",
        "Banking_Marketing_df.duration.fillna(median_duration, inplace=True)\n",
        "print(\"\\nImpute missing data with median value:\")\n",
        "print (Banking_Marketing_df.isna().sum())"
      ],
      "metadata": {
        "colab": {
          "base_uri": "https://localhost:8080/",
          "height": 468
        },
        "id": "lS-AgHQ-CvBW",
        "outputId": "ba9bbad4-8c56-443a-be05-078cf7b0f3d2"
      },
      "execution_count": null,
      "outputs": [
        {
          "output_type": "display_data",
          "data": {
            "text/plain": [
              "<IPython.core.display.HTML object>"
            ],
            "text/html": [
              "\n",
              "  <style>\n",
              "    pre {\n",
              "        white-space: pre-wrap;\n",
              "    }\n",
              "  </style>\n",
              "  "
            ]
          },
          "metadata": {}
        },
        {
          "output_type": "stream",
          "name": "stdout",
          "text": [
            "\n",
            "Median duration: 180.00\n",
            "\n",
            "Impute missing data with median value:\n",
            "age               0\n",
            "job               0\n",
            "marital           0\n",
            "education         0\n",
            "default           0\n",
            "housing           0\n",
            "loan              0\n",
            "contact           6\n",
            "month             0\n",
            "day_of_week       0\n",
            "duration          0\n",
            "campaign          0\n",
            "pdays             0\n",
            "previous          0\n",
            "poutcome          0\n",
            "emp_var_rate      0\n",
            "cons_price_idx    0\n",
            "cons_conf_idx     0\n",
            "euribor3m         0\n",
            "nr_employed       0\n",
            "y                 0\n",
            "dtype: int64\n"
          ]
        }
      ]
    },
    {
      "cell_type": "code",
      "source": [
        "# Computation of the Mean value by using mean ()\n",
        "mean_age = Banking_Marketing_df.age.mean ()\n",
        "print()\n",
        "print (\"Mean age: %.2f\" % mean_age)\n",
        "\n",
        "# Impute the missing data with its mean by using fillna ()\n",
        "Banking_Marketing_df.age.fillna(mean_age, inplace=True)\n",
        "print(\"\\nImpute missing data with mean value:\")\n",
        "print (Banking_Marketing_df.isna().sum())\n",
        "\n",
        "# Computation of Median value by using median ()\n",
        "# used median because the 'duration' variable is too diverse\n",
        "median_duration = Banking_Marketing_df.duration.median()\n",
        "print (\"\\nMedian duration: %.2f\" % median_duration)\n",
        "\n",
        "# Impute the missing data with its median by using fillna ()\n",
        "Banking_Marketing_df.duration.fillna(median_duration, inplace=True)\n",
        "print(\"\\nImpute missing data with median value:\")\n",
        "print (Banking_Marketing_df.isna().sum())\n",
        "\n",
        "# Impute Categorical Data with its mode by using mode ()\n",
        "# find out the mode\n",
        "mode_contact = Banking_Marketing_df.contact.mode()[0]\n",
        "print(\"\\nImpute categorical data with its mode:\")\n",
        "print (mode_contact)\n",
        "\n",
        "# impute using fillna. Used mode to find the most popular contact\n",
        "Banking_Marketing_df.contact.fillna (mode_contact, inplace = True)\n",
        "print(\"\\nImpute missing data with mode (most popular contact):\")\n",
        "print (Banking_Marketing_df.isna().sum())"
      ],
      "metadata": {
        "colab": {
          "base_uri": "https://localhost:8080/",
          "height": 1000
        },
        "id": "SRf1-zQ_ergu",
        "outputId": "c24774fc-445b-4b7e-d760-39b25373b697"
      },
      "execution_count": null,
      "outputs": [
        {
          "output_type": "display_data",
          "data": {
            "text/plain": [
              "<IPython.core.display.HTML object>"
            ],
            "text/html": [
              "\n",
              "  <style>\n",
              "    pre {\n",
              "        white-space: pre-wrap;\n",
              "    }\n",
              "  </style>\n",
              "  "
            ]
          },
          "metadata": {}
        },
        {
          "output_type": "stream",
          "name": "stdout",
          "text": [
            "\n",
            "Mean age: 40.02\n",
            "\n",
            "Impute missing data with mean value:\n",
            "age               0\n",
            "job               0\n",
            "marital           0\n",
            "education         0\n",
            "default           0\n",
            "housing           0\n",
            "loan              0\n",
            "contact           6\n",
            "month             0\n",
            "day_of_week       0\n",
            "duration          0\n",
            "campaign          0\n",
            "pdays             0\n",
            "previous          0\n",
            "poutcome          0\n",
            "emp_var_rate      0\n",
            "cons_price_idx    0\n",
            "cons_conf_idx     0\n",
            "euribor3m         0\n",
            "nr_employed       0\n",
            "y                 0\n",
            "dtype: int64\n",
            "\n",
            "Median duration: 180.00\n",
            "\n",
            "Impute missing data with median value:\n",
            "age               0\n",
            "job               0\n",
            "marital           0\n",
            "education         0\n",
            "default           0\n",
            "housing           0\n",
            "loan              0\n",
            "contact           6\n",
            "month             0\n",
            "day_of_week       0\n",
            "duration          0\n",
            "campaign          0\n",
            "pdays             0\n",
            "previous          0\n",
            "poutcome          0\n",
            "emp_var_rate      0\n",
            "cons_price_idx    0\n",
            "cons_conf_idx     0\n",
            "euribor3m         0\n",
            "nr_employed       0\n",
            "y                 0\n",
            "dtype: int64\n",
            "\n",
            "Impute categorical data with its mode:\n",
            "cellular\n",
            "\n",
            "Impute missing data with mode (most popular contact):\n",
            "age               0\n",
            "job               0\n",
            "marital           0\n",
            "education         0\n",
            "default           0\n",
            "housing           0\n",
            "loan              0\n",
            "contact           0\n",
            "month             0\n",
            "day_of_week       0\n",
            "duration          0\n",
            "campaign          0\n",
            "pdays             0\n",
            "previous          0\n",
            "poutcome          0\n",
            "emp_var_rate      0\n",
            "cons_price_idx    0\n",
            "cons_conf_idx     0\n",
            "euribor3m         0\n",
            "nr_employed       0\n",
            "y                 0\n",
            "dtype: int64\n"
          ]
        }
      ]
    },
    {
      "cell_type": "code",
      "source": [
        "DATA_DIR_2 = \"/content/german_credit_card.csv\"\n",
        "german_credit_df = pd.read_csv (DATA_DIR_2, header=0)"
      ],
      "metadata": {
        "colab": {
          "base_uri": "https://localhost:8080/",
          "height": 17
        },
        "id": "uAjB9kPAi_-t",
        "outputId": "71acbece-dbb0-4501-aa1c-139a067007bb"
      },
      "execution_count": 15,
      "outputs": [
        {
          "output_type": "display_data",
          "data": {
            "text/plain": [
              "<IPython.core.display.HTML object>"
            ],
            "text/html": [
              "\n",
              "  <style>\n",
              "    pre {\n",
              "        white-space: pre-wrap;\n",
              "    }\n",
              "  </style>\n",
              "  "
            ]
          },
          "metadata": {}
        }
      ]
    },
    {
      "cell_type": "code",
      "source": [
        "german_credit_df.shape"
      ],
      "metadata": {
        "colab": {
          "base_uri": "https://localhost:8080/",
          "height": 34
        },
        "id": "SuHBbEGejF4Y",
        "outputId": "248eba97-3ff2-4908-90eb-66b2cd2db835"
      },
      "execution_count": 16,
      "outputs": [
        {
          "output_type": "display_data",
          "data": {
            "text/plain": [
              "<IPython.core.display.HTML object>"
            ],
            "text/html": [
              "\n",
              "  <style>\n",
              "    pre {\n",
              "        white-space: pre-wrap;\n",
              "    }\n",
              "  </style>\n",
              "  "
            ]
          },
          "metadata": {}
        },
        {
          "output_type": "execute_result",
          "data": {
            "text/plain": [
              "(1000, 11)"
            ]
          },
          "metadata": {},
          "execution_count": 16
        }
      ]
    },
    {
      "cell_type": "code",
      "source": [
        "# Display a BoxPlot\n",
        "import pandas as pd\n",
        "import numpy as np\n",
        "import matplotlib\n",
        "import seaborn as sbn\n",
        "sbn.boxplot(german_credit_df['Age'])\n",
        "\n",
        "# Compute the Interquartile Range (IQR)\n",
        "Q1 = german_credit_df['Age'].quantile(0.25)\n",
        "Q3 = german_credit_df['Age'].quantile(0.75)\n",
        "IQR = Q3 - Q1\n",
        "print (\"IQR: %.2f\" %IQR)\n",
        "\n",
        "# Calculate the Lower and Upper Fence\n",
        "Lower_Fence = Q1 - (1.5 * IQR)\n",
        "print (\"Lower_Fence: %.2f\" %Lower_Fence)\n",
        "Upper_Fence = Q3 + (1.5 * IQR)\n",
        "print (\"Upper_Fence: %.2f\" %Upper_Fence)\n",
        "\n",
        "# Display Outliers and Filtering Out the Outliers\n",
        "print(\"\\nDisplay Outliers\")\n",
        "print (german_credit_df[((german_credit_df[\"Age\"] < Lower_Fence) | (german_credit_df[\"Age\"] > Upper_Fence))])\n",
        "\n",
        "# display data with outliers filtered out, use ~ to filter\n",
        "print(\"\\nDisplay data without outliers\")\n",
        "print (german_credit_df[~((german_credit_df[\"Age\"] < Lower_Fence) | (german_credit_df[\"Age\"] > Upper_Fence))])"
      ],
      "metadata": {
        "colab": {
          "base_uri": "https://localhost:8080/",
          "height": 1000
        },
        "id": "6VWN83eejJ5X",
        "outputId": "98f4fa7e-9d2a-4440-8d0e-c1eb95ccb18d"
      },
      "execution_count": 17,
      "outputs": [
        {
          "output_type": "display_data",
          "data": {
            "text/plain": [
              "<IPython.core.display.HTML object>"
            ],
            "text/html": [
              "\n",
              "  <style>\n",
              "    pre {\n",
              "        white-space: pre-wrap;\n",
              "    }\n",
              "  </style>\n",
              "  "
            ]
          },
          "metadata": {}
        },
        {
          "output_type": "stream",
          "name": "stdout",
          "text": [
            "IQR: 15.00\n",
            "Lower_Fence: 4.50\n",
            "Upper_Fence: 64.50\n",
            "\n",
            "Display Outliers\n",
            "     Unnamed: 0  Unnamed: 1  Age     Sex  Job Housing Saving accounts  \\\n",
            "0           NaN           0   67    male    2     own             NaN   \n",
            "75          NaN          75   66    male    3    free          little   \n",
            "137         NaN         137   66    male    1     own      quite rich   \n",
            "163         NaN         163   70    male    3    free          little   \n",
            "179         NaN         179   65    male    2     own          little   \n",
            "186         NaN         186   74  female    3    free          little   \n",
            "187         NaN         187   68    male    0    free          little   \n",
            "213         NaN         213   66    male    3     own          little   \n",
            "330         NaN         330   75    male    3    free          little   \n",
            "430         NaN         430   74    male    1     own          little   \n",
            "438         NaN         438   65    male    0     own          little   \n",
            "536         NaN         536   75  female    3     own             NaN   \n",
            "554         NaN         554   67  female    3     own          little   \n",
            "606         NaN         606   74    male    3     own          little   \n",
            "624         NaN         624   65    male    2    free          little   \n",
            "723         NaN         723   66  female    1     own      quite rich   \n",
            "756         NaN         756   74    male    0     own          little   \n",
            "774         NaN         774   66    male    0    free      quite rich   \n",
            "779         NaN         779   67  female    2     own          little   \n",
            "807         NaN         807   65    male    2     own             NaN   \n",
            "846         NaN         846   68    male    2    rent             NaN   \n",
            "883         NaN         883   65  female    0     own          little   \n",
            "917         NaN         917   68    male    3     own          little   \n",
            "\n",
            "    Checking account  Credit amount  Duration    Purpose  \n",
            "0             little           1169         6   radio/TV  \n",
            "75            little           1526        12        car  \n",
            "137         moderate            766        12   radio/TV  \n",
            "163         moderate           7308        10        car  \n",
            "179           little            571        21        car  \n",
            "186         moderate           5129         9        car  \n",
            "187         moderate           1175        16        car  \n",
            "213             rich           1908        30   business  \n",
            "330           little           6615        24        car  \n",
            "430              NaN           3448         5   business  \n",
            "438           little           3394        42    repairs  \n",
            "536           little           1374         6        car  \n",
            "554         moderate           1199         9  education  \n",
            "606              NaN           4526        24   business  \n",
            "624           little           2600        18   radio/TV  \n",
            "723         moderate            790         9   radio/TV  \n",
            "756             rich           1299         6        car  \n",
            "774             rich           1480        12        car  \n",
            "779         moderate           3872        18    repairs  \n",
            "807              NaN            930        12   radio/TV  \n",
            "846              NaN           6761        18        car  \n",
            "883              NaN           1098        18   radio/TV  \n",
            "917           little          14896         6        car  \n",
            "\n",
            "Display data without outliers\n",
            "     Unnamed: 0  Unnamed: 1  Age     Sex  Job Housing Saving accounts  \\\n",
            "1           NaN           1   22  female    2     own          little   \n",
            "2           NaN           2   49    male    1     own          little   \n",
            "3           NaN           3   45    male    2    free          little   \n",
            "4           NaN           4   53    male    2    free          little   \n",
            "5           NaN           5   35    male    1    free             NaN   \n",
            "..          ...         ...  ...     ...  ...     ...             ...   \n",
            "995         NaN         995   31  female    1     own          little   \n",
            "996         NaN         996   40    male    3     own          little   \n",
            "997         NaN         997   38    male    2     own          little   \n",
            "998         NaN         998   23    male    2    free          little   \n",
            "999         NaN         999   27    male    2     own        moderate   \n",
            "\n",
            "    Checking account  Credit amount  Duration              Purpose  \n",
            "1           moderate           5951        48             radio/TV  \n",
            "2                NaN           2096        12            education  \n",
            "3             little           7882        42  furniture/equipment  \n",
            "4             little           4870        24                  car  \n",
            "5                NaN           9055        36            education  \n",
            "..               ...            ...       ...                  ...  \n",
            "995              NaN           1736        12  furniture/equipment  \n",
            "996           little           3857        30                  car  \n",
            "997              NaN            804        12             radio/TV  \n",
            "998           little           1845        45             radio/TV  \n",
            "999         moderate           4576        45                  car  \n",
            "\n",
            "[977 rows x 11 columns]\n"
          ]
        },
        {
          "output_type": "display_data",
          "data": {
            "text/plain": [
              "<Figure size 640x480 with 1 Axes>"
            ],
            "image/png": "[encoded data removed]"
          },
          "metadata": {}
        }
      ]
    },
    {
      "cell_type": "code",
      "source": [
        "german_credit_remOutliers = (german_credit_df[~((german_credit_df[\"Age\"] < Lower_Fence) | (german_credit_df[\"Age\"] > Upper_Fence))])\n",
        "german_credit_remOutliers.shape"
      ],
      "metadata": {
        "colab": {
          "base_uri": "https://localhost:8080/",
          "height": 34
        },
        "id": "adNXqVA0jSMe",
        "outputId": "24c65934-f402-4123-9c26-2a7ac51d47f2"
      },
      "execution_count": 18,
      "outputs": [
        {
          "output_type": "display_data",
          "data": {
            "text/plain": [
              "<IPython.core.display.HTML object>"
            ],
            "text/html": [
              "\n",
              "  <style>\n",
              "    pre {\n",
              "        white-space: pre-wrap;\n",
              "    }\n",
              "  </style>\n",
              "  "
            ]
          },
          "metadata": {}
        },
        {
          "output_type": "execute_result",
          "data": {
            "text/plain": [
              "(977, 11)"
            ]
          },
          "metadata": {},
          "execution_count": 18
        }
      ]
    },
    {
      "cell_type": "code",
      "source": [
        "# Compute new quantile range after remove outliers\n",
        "# Compute the Interquartile Range (IQR)\n",
        "Q1b = german_credit_remOutliers['Age'].quantile(0.25)\n",
        "Q3b = german_credit_remOutliers['Age'].quantile(0.75)\n",
        "IQRb = Q3b - Q1b\n",
        "print (\"IQRb: %.2f\" %IQRb)\n",
        "\n",
        "# Calculate the Lower and Upper Fence\n",
        "Lower_Fence_b = Q1b - (1.5 * IQRb)\n",
        "print (\"Lower_Fence: %.2f\" %Lower_Fence_b)\n",
        "Upper_Fence_b = Q3 + (1.5 * IQRb)\n",
        "print (\"Upper_Fence: %.2f\" %Upper_Fence_b)"
      ],
      "metadata": {
        "colab": {
          "base_uri": "https://localhost:8080/",
          "height": 69
        },
        "id": "uI3caBT9oNPa",
        "outputId": "3e3efbbe-dd83-417c-ba37-0acb36f6c6e1"
      },
      "execution_count": 19,
      "outputs": [
        {
          "output_type": "display_data",
          "data": {
            "text/plain": [
              "<IPython.core.display.HTML object>"
            ],
            "text/html": [
              "\n",
              "  <style>\n",
              "    pre {\n",
              "        white-space: pre-wrap;\n",
              "    }\n",
              "  </style>\n",
              "  "
            ]
          },
          "metadata": {}
        },
        {
          "output_type": "stream",
          "name": "stdout",
          "text": [
            "IQRb: 14.00\n",
            "Lower_Fence: 6.00\n",
            "Upper_Fence: 63.00\n"
          ]
        }
      ]
    },
    {
      "cell_type": "code",
      "source": [
        "sbn.boxplot(german_credit_remOutliers['Age'])\n",
        "# Use showfliers=False if you want to disable outliers from boxplot"
      ],
      "metadata": {
        "colab": {
          "base_uri": "https://localhost:8080/",
          "height": 428
        },
        "id": "WmCENh0doTBo",
        "outputId": "b1e0adc1-fcec-4f04-d198-21531ab1619b"
      },
      "execution_count": 20,
      "outputs": [
        {
          "output_type": "display_data",
          "data": {
            "text/plain": [
              "<IPython.core.display.HTML object>"
            ],
            "text/html": [
              "\n",
              "  <style>\n",
              "    pre {\n",
              "        white-space: pre-wrap;\n",
              "    }\n",
              "  </style>\n",
              "  "
            ]
          },
          "metadata": {}
        },
        {
          "output_type": "execute_result",
          "data": {
            "text/plain": [
              "<Axes: ylabel='Age'>"
            ]
          },
          "metadata": {},
          "execution_count": 20
        },
        {
          "output_type": "display_data",
          "data": {
            "text/plain": [
              "<Figure size 640x480 with 1 Axes>"
            ],
            "image/png": "[encoded data removed]"
          },
          "metadata": {}
        }
      ]
    },
    {
      "cell_type": "code",
      "source": [
        "# Check condition based on the firstly calculated IQR → results return empty df\n",
        "# Display Outliers and Filtering Out the Outliers\n",
        "print(\"\\nDisplay Outliers\")\n",
        "print (german_credit_remOutliers[((german_credit_remOutliers[\"Age\"] < Lower_Fence) | (german_credit_remOutliers[\"Age\"] > Upper_Fence))])"
      ],
      "metadata": {
        "colab": {
          "base_uri": "https://localhost:8080/",
          "height": 104
        },
        "id": "7w2eHDhCoWkf",
        "outputId": "b67a4deb-66c9-4aae-e595-a4f16e6ad1fd"
      },
      "execution_count": 21,
      "outputs": [
        {
          "output_type": "display_data",
          "data": {
            "text/plain": [
              "<IPython.core.display.HTML object>"
            ],
            "text/html": [
              "\n",
              "  <style>\n",
              "    pre {\n",
              "        white-space: pre-wrap;\n",
              "    }\n",
              "  </style>\n",
              "  "
            ]
          },
          "metadata": {}
        },
        {
          "output_type": "stream",
          "name": "stdout",
          "text": [
            "\n",
            "Display Outliers\n",
            "Empty DataFrame\n",
            "Columns: [Unnamed: 0, Unnamed: 1, Age, Sex, Job, Housing, Saving accounts, Checking account, Credit amount, Duration, Purpose]\n",
            "Index: []\n"
          ]
        }
      ]
    },
    {
      "cell_type": "code",
      "source": [
        "# Check condition based on the newly calculated IQR → results return 5 rows with outliers\n",
        "# Note that the age 64 > new upper fence 63\n",
        "# Display Outliers and Filtering Out the Outliers\n",
        "print(\"\\nDisplay Outliers\")\n",
        "print (german_credit_remOutliers[((german_credit_remOutliers[\"Age\"] < Lower_Fence_b) | (german_credit_remOutliers[\"Age\"] > Upper_Fence_b))])"
      ],
      "metadata": {
        "colab": {
          "base_uri": "https://localhost:8080/",
          "height": 277
        },
        "id": "UvkikME9oYk9",
        "outputId": "83502a5a-39d0-4b45-8d84-7610cbbf5107"
      },
      "execution_count": 22,
      "outputs": [
        {
          "output_type": "display_data",
          "data": {
            "text/plain": [
              "<IPython.core.display.HTML object>"
            ],
            "text/html": [
              "\n",
              "  <style>\n",
              "    pre {\n",
              "        white-space: pre-wrap;\n",
              "    }\n",
              "  </style>\n",
              "  "
            ]
          },
          "metadata": {}
        },
        {
          "output_type": "stream",
          "name": "stdout",
          "text": [
            "\n",
            "Display Outliers\n",
            "     Unnamed: 0  Unnamed: 1  Age     Sex  Job Housing Saving accounts  \\\n",
            "219         NaN         219   64  female    2     own          little   \n",
            "629         NaN         629   64    male    1     own             NaN   \n",
            "678         NaN         678   64    male    1    rent          little   \n",
            "976         NaN         976   64  female    2     own          little   \n",
            "987         NaN         987   64  female    2     own        moderate   \n",
            "\n",
            "    Checking account  Credit amount  Duration    Purpose  \n",
            "219              NaN           1364        10        car  \n",
            "629              NaN           3832         9  education  \n",
            "678           little           2384        24   radio/TV  \n",
            "976         moderate            753         6   radio/TV  \n",
            "987              NaN           1409        13   radio/TV  \n"
          ]
        }
      ]
    },
    {
      "cell_type": "code",
      "source": [
        "# Import dataset\n",
        "import pandas as pd\n",
        "DATA_DIR_3 = \"/content/student.csv\"\n",
        "DATA_DIR_4 = \"/content/mark.csv\"\n",
        "student_df = pd.read_csv (DATA_DIR_3, header=0)\n",
        "marks_df = pd.read_csv (DATA_DIR_4, header=0)"
      ],
      "metadata": {
        "colab": {
          "base_uri": "https://localhost:8080/",
          "height": 17
        },
        "id": "s9gJioWko_mW",
        "outputId": "1ea9a61b-9ea0-4ad3-e4ac-587c918a0b76"
      },
      "execution_count": 30,
      "outputs": [
        {
          "output_type": "display_data",
          "data": {
            "text/plain": [
              "<IPython.core.display.HTML object>"
            ],
            "text/html": [
              "\n",
              "  <style>\n",
              "    pre {\n",
              "        white-space: pre-wrap;\n",
              "    }\n",
              "  </style>\n",
              "  "
            ]
          },
          "metadata": {}
        }
      ]
    },
    {
      "cell_type": "code",
      "source": [
        "#Checking of Data\n",
        "print (student_df.head())\n",
        "print (marks_df.head())\n",
        "\n",
        "# Merging of DataFrame using the pd.merge ()\n",
        "df = pd.merge(student_df, marks_df, on = \"Student_id\")\n",
        "print (df.head (10))"
      ],
      "metadata": {
        "colab": {
          "base_uri": "https://localhost:8080/",
          "height": 416
        },
        "id": "YpqKbXaspNcq",
        "outputId": "ec686f6c-0d3b-447c-8c3d-409901a580e3"
      },
      "execution_count": 31,
      "outputs": [
        {
          "output_type": "display_data",
          "data": {
            "text/plain": [
              "<IPython.core.display.HTML object>"
            ],
            "text/html": [
              "\n",
              "  <style>\n",
              "    pre {\n",
              "        white-space: pre-wrap;\n",
              "    }\n",
              "  </style>\n",
              "  "
            ]
          },
          "metadata": {}
        },
        {
          "output_type": "stream",
          "name": "stdout",
          "text": [
            "   Student_id  Age  Gender      Grade Employed\n",
            "0           1   19    Male  1st Class      yes\n",
            "1           2   20  Female  2nd Class       no\n",
            "2           3   18    Male  1st Class       no\n",
            "3           4   21  Female  2nd Class       no\n",
            "4           5   19    Male  1st Class       no\n",
            "   Student_id  Mark     City\n",
            "0           1    95  Chennai\n",
            "1           2    70    Delhi\n",
            "2           3    98   Mumbai\n",
            "3           4    75     Pune\n",
            "4           5    89    Kochi\n",
            "   Student_id  Age  Gender      Grade Employed  Mark     City\n",
            "0           1   19    Male  1st Class      yes    95  Chennai\n",
            "1           2   20  Female  2nd Class       no    70    Delhi\n",
            "2           3   18    Male  1st Class       no    98   Mumbai\n",
            "3           4   21  Female  2nd Class       no    75     Pune\n",
            "4           5   19    Male  1st Class       no    89    Kochi\n",
            "5           6   20    Male  2nd Class      yes    69  Gwalior\n",
            "6           7   19  Female  3rd Class      yes    52   Bhopal\n",
            "7           8   21    Male  3rd Class      yes    54  Chennai\n",
            "8           9   22  Female  3rd Class      yes    55    Delhi\n",
            "9          10   21    Male  1st Class       no    94   Mumbai\n"
          ]
        }
      ]
    },
    {
      "cell_type": "code",
      "source": [
        "import numpy as np\n",
        "\n",
        "# Separating Categorical Columns from Dataframe using select_dtypes()\n",
        "df_categorical = student_df.select_dtypes(exclude=[np.number]) # exclude numerical using numpy\n",
        "print(df_categorical)"
      ],
      "metadata": {
        "colab": {
          "base_uri": "https://localhost:8080/",
          "height": 260
        },
        "id": "_gYPJPXHpOof",
        "outputId": "ef2ca51a-be2d-4099-c056-e4e844adf174"
      },
      "execution_count": 32,
      "outputs": [
        {
          "output_type": "display_data",
          "data": {
            "text/plain": [
              "<IPython.core.display.HTML object>"
            ],
            "text/html": [
              "\n",
              "  <style>\n",
              "    pre {\n",
              "        white-space: pre-wrap;\n",
              "    }\n",
              "  </style>\n",
              "  "
            ]
          },
          "metadata": {}
        },
        {
          "output_type": "stream",
          "name": "stdout",
          "text": [
            "     Gender      Grade Employed\n",
            "0      Male  1st Class      yes\n",
            "1    Female  2nd Class       no\n",
            "2      Male  1st Class       no\n",
            "3    Female  2nd Class       no\n",
            "4      Male  1st Class       no\n",
            "..      ...        ...      ...\n",
            "227  Female  1st Class       no\n",
            "228    Male  2nd Class       no\n",
            "229    Male  3rd Class      yes\n",
            "230  Female  1st Class      yes\n",
            "231    Male  3rd Class      yes\n",
            "\n",
            "[232 rows x 3 columns]\n"
          ]
        }
      ]
    },
    {
      "cell_type": "code",
      "source": [
        "print(df_categorical['Grade'].unique())"
      ],
      "metadata": {
        "colab": {
          "base_uri": "https://localhost:8080/",
          "height": 34
        },
        "id": "HftA-Ykwp5Kk",
        "outputId": "420745a0-ed0b-40dd-f3da-731d4de98da4"
      },
      "execution_count": 33,
      "outputs": [
        {
          "output_type": "display_data",
          "data": {
            "text/plain": [
              "<IPython.core.display.HTML object>"
            ],
            "text/html": [
              "\n",
              "  <style>\n",
              "    pre {\n",
              "        white-space: pre-wrap;\n",
              "    }\n",
              "  </style>\n",
              "  "
            ]
          },
          "metadata": {}
        },
        {
          "output_type": "stream",
          "name": "stdout",
          "text": [
            "['1st Class' '2nd Class' '3rd Class']\n"
          ]
        }
      ]
    },
    {
      "cell_type": "code",
      "source": [
        "print(df_categorical.Grade.value_counts())"
      ],
      "metadata": {
        "colab": {
          "base_uri": "https://localhost:8080/",
          "height": 86
        },
        "id": "G3spJx-lp6Dh",
        "outputId": "9ccaaffd-29c0-4cff-b335-57712cb2e417"
      },
      "execution_count": 34,
      "outputs": [
        {
          "output_type": "display_data",
          "data": {
            "text/plain": [
              "<IPython.core.display.HTML object>"
            ],
            "text/html": [
              "\n",
              "  <style>\n",
              "    pre {\n",
              "        white-space: pre-wrap;\n",
              "    }\n",
              "  </style>\n",
              "  "
            ]
          },
          "metadata": {}
        },
        {
          "output_type": "stream",
          "name": "stdout",
          "text": [
            "2nd Class    80\n",
            "3rd Class    80\n",
            "1st Class    72\n",
            "Name: Grade, dtype: int64\n"
          ]
        }
      ]
    },
    {
      "cell_type": "code",
      "source": [
        "print(df_categorical.Gender.value_counts())"
      ],
      "metadata": {
        "colab": {
          "base_uri": "https://localhost:8080/",
          "height": 69
        },
        "id": "E7Y7K5g5qmdP",
        "outputId": "e9d5fc91-adc9-4f9d-9eec-0d77d9d07799"
      },
      "execution_count": 35,
      "outputs": [
        {
          "output_type": "display_data",
          "data": {
            "text/plain": [
              "<IPython.core.display.HTML object>"
            ],
            "text/html": [
              "\n",
              "  <style>\n",
              "    pre {\n",
              "        white-space: pre-wrap;\n",
              "    }\n",
              "  </style>\n",
              "  "
            ]
          },
          "metadata": {}
        },
        {
          "output_type": "stream",
          "name": "stdout",
          "text": [
            "Male      136\n",
            "Female     96\n",
            "Name: Gender, dtype: int64\n"
          ]
        }
      ]
    },
    {
      "cell_type": "code",
      "source": [
        "print(df_categorical.Employed.value_counts())"
      ],
      "metadata": {
        "colab": {
          "base_uri": "https://localhost:8080/",
          "height": 69
        },
        "id": "TdgxHFAkqnHF",
        "outputId": "95086f23-1f7a-40ad-ed87-62e24dba51ba"
      },
      "execution_count": 36,
      "outputs": [
        {
          "output_type": "display_data",
          "data": {
            "text/plain": [
              "<IPython.core.display.HTML object>"
            ],
            "text/html": [
              "\n",
              "  <style>\n",
              "    pre {\n",
              "        white-space: pre-wrap;\n",
              "    }\n",
              "  </style>\n",
              "  "
            ]
          },
          "metadata": {}
        },
        {
          "output_type": "stream",
          "name": "stdout",
          "text": [
            "no     133\n",
            "yes     99\n",
            "Name: Employed, dtype: int64\n"
          ]
        }
      ]
    },
    {
      "cell_type": "code",
      "source": [
        "df_categorical.Grade.replace({\"1st Class\": 1, \"2nd Class\": 2, \"3rd Class\": 3 }, inplace=True)"
      ],
      "metadata": {
        "colab": {
          "base_uri": "https://localhost:8080/",
          "height": 17
        },
        "id": "1AVzNx6XqpJ3",
        "outputId": "5b59053d-d83c-4bd9-9f73-e7f74e60dd1e"
      },
      "execution_count": 37,
      "outputs": [
        {
          "output_type": "display_data",
          "data": {
            "text/plain": [
              "<IPython.core.display.HTML object>"
            ],
            "text/html": [
              "\n",
              "  <style>\n",
              "    pre {\n",
              "        white-space: pre-wrap;\n",
              "    }\n",
              "  </style>\n",
              "  "
            ]
          },
          "metadata": {}
        }
      ]
    },
    {
      "cell_type": "code",
      "source": [
        "df_categorical.Gender.replace({\"Male\": 0, \"Female\": 1}, inplace=True)"
      ],
      "metadata": {
        "colab": {
          "base_uri": "https://localhost:8080/",
          "height": 17
        },
        "id": "sX4P6YqfqxcY",
        "outputId": "a7ab099b-653b-4b01-e192-6be6a241263c"
      },
      "execution_count": 38,
      "outputs": [
        {
          "output_type": "display_data",
          "data": {
            "text/plain": [
              "<IPython.core.display.HTML object>"
            ],
            "text/html": [
              "\n",
              "  <style>\n",
              "    pre {\n",
              "        white-space: pre-wrap;\n",
              "    }\n",
              "  </style>\n",
              "  "
            ]
          },
          "metadata": {}
        }
      ]
    },
    {
      "cell_type": "code",
      "source": [
        "df_categorical.Employed.replace({\"yes\": 1, \"no\": 2}, inplace=True)\n",
        "print (df_categorical.head())\n"
      ],
      "metadata": {
        "colab": {
          "base_uri": "https://localhost:8080/",
          "height": 121
        },
        "id": "yS2osmTuqyiO",
        "outputId": "09856dff-418e-47be-eee8-8b6fd03b9245"
      },
      "execution_count": 39,
      "outputs": [
        {
          "output_type": "display_data",
          "data": {
            "text/plain": [
              "<IPython.core.display.HTML object>"
            ],
            "text/html": [
              "\n",
              "  <style>\n",
              "    pre {\n",
              "        white-space: pre-wrap;\n",
              "    }\n",
              "  </style>\n",
              "  "
            ]
          },
          "metadata": {}
        },
        {
          "output_type": "stream",
          "name": "stdout",
          "text": [
            "   Gender  Grade  Employed\n",
            "0       0      1         1\n",
            "1       1      2         2\n",
            "2       0      1         2\n",
            "3       1      2         2\n",
            "4       0      1         2\n"
          ]
        }
      ]
    },
    {
      "cell_type": "code",
      "source": [
        "# Read Dataset and import LabelEncoder from sklearn.preprocessing package\n",
        "from sklearn.preprocessing import LabelEncoder\n",
        "\n",
        "print (Banking_Marketing_df.head())"
      ],
      "metadata": {
        "colab": {
          "base_uri": "https://localhost:8080/",
          "height": 399
        },
        "id": "oX35ExUWq001",
        "outputId": "82485027-9f86-45f8-9e42-6e190c70f76a"
      },
      "execution_count": 40,
      "outputs": [
        {
          "output_type": "display_data",
          "data": {
            "text/plain": [
              "<IPython.core.display.HTML object>"
            ],
            "text/html": [
              "\n",
              "  <style>\n",
              "    pre {\n",
              "        white-space: pre-wrap;\n",
              "    }\n",
              "  </style>\n",
              "  "
            ]
          },
          "metadata": {}
        },
        {
          "output_type": "stream",
          "name": "stdout",
          "text": [
            "    age          job  marital          education  default housing loan  \\\n",
            "0  44.0  blue-collar  married           basic.4y  unknown     yes   no   \n",
            "1  53.0   technician  married            unknown       no      no   no   \n",
            "2  28.0   management   single  university.degree       no     yes   no   \n",
            "3  39.0     services  married        high.school       no      no   no   \n",
            "4  55.0      retired  married           basic.4y       no     yes   no   \n",
            "\n",
            "    contact month day_of_week  ...  campaign  pdays  previous     poutcome  \\\n",
            "0  cellular   aug         thu  ...         1    999         0  nonexistent   \n",
            "1  cellular   nov         fri  ...         1    999         0  nonexistent   \n",
            "2  cellular   jun         thu  ...         3      6         2      success   \n",
            "3  cellular   apr         fri  ...         2    999         0  nonexistent   \n",
            "4  cellular   aug         fri  ...         1      3         1      success   \n",
            "\n",
            "  emp_var_rate  cons_price_idx  cons_conf_idx  euribor3m  nr_employed  y  \n",
            "0          1.4          93.444          -36.1      4.963       5228.1  0  \n",
            "1         -0.1          93.200          -42.0      4.021       5195.8  0  \n",
            "2         -1.7          94.055          -39.8      0.729       4991.6  1  \n",
            "3         -1.8          93.075          -47.1      1.405       5099.1  0  \n",
            "4         -2.9          92.201          -31.4      0.869       5076.2  1  \n",
            "\n",
            "[5 rows x 21 columns]\n"
          ]
        }
      ]
    },
    {
      "cell_type": "code",
      "source": [
        "# Remove Missing Data\n",
        "Banking_Marketing_df = Banking_Marketing_df.dropna()"
      ],
      "metadata": {
        "colab": {
          "base_uri": "https://localhost:8080/",
          "height": 17
        },
        "id": "z76i2fwNq9oh",
        "outputId": "383f73bb-d449-4983-ade3-f9a9cf4ee6a7"
      },
      "execution_count": 41,
      "outputs": [
        {
          "output_type": "display_data",
          "data": {
            "text/plain": [
              "<IPython.core.display.HTML object>"
            ],
            "text/html": [
              "\n",
              "  <style>\n",
              "    pre {\n",
              "        white-space: pre-wrap;\n",
              "    }\n",
              "  </style>\n",
              "  "
            ]
          },
          "metadata": {}
        }
      ]
    },
    {
      "cell_type": "code",
      "source": [
        "# Select Non-Numerical Columns\n",
        "data_column_category = Banking_Marketing_df.select_dtypes (exclude=[np.number]).columns\n",
        "print (data_column_category)\n",
        "print (Banking_Marketing_df[data_column_category].head())"
      ],
      "metadata": {
        "colab": {
          "base_uri": "https://localhost:8080/",
          "height": 86
        },
        "id": "-T59sOltq_hk",
        "outputId": "4de8bb44-e0d6-4214-fbad-60af62f548a9"
      },
      "execution_count": 49,
      "outputs": [
        {
          "output_type": "display_data",
          "data": {
            "text/plain": [
              "<IPython.core.display.HTML object>"
            ],
            "text/html": [
              "\n",
              "  <style>\n",
              "    pre {\n",
              "        white-space: pre-wrap;\n",
              "    }\n",
              "  </style>\n",
              "  "
            ]
          },
          "metadata": {}
        },
        {
          "output_type": "stream",
          "name": "stdout",
          "text": [
            "Index([], dtype='object')\n",
            "Empty DataFrame\n",
            "Columns: []\n",
            "Index: [0, 1, 2, 3, 4]\n"
          ]
        }
      ]
    },
    {
      "cell_type": "code",
      "source": [
        "# Iterate through column to convert to numeric data using LabelEncoder ()\n",
        "label_encoder = LabelEncoder()\n",
        "for i in data_column_category:\n",
        "    Banking_Marketing_df[i] = label_encoder.fit_transform (Banking_Marketing_df[i])"
      ],
      "metadata": {
        "colab": {
          "base_uri": "https://localhost:8080/",
          "height": 17
        },
        "id": "cEwkfrMQrCC1",
        "outputId": "1ce54919-23f8-4c57-b853-f9c456a31555"
      },
      "execution_count": 44,
      "outputs": [
        {
          "output_type": "display_data",
          "data": {
            "text/plain": [
              "<IPython.core.display.HTML object>"
            ],
            "text/html": [
              "\n",
              "  <style>\n",
              "    pre {\n",
              "        white-space: pre-wrap;\n",
              "    }\n",
              "  </style>\n",
              "  "
            ]
          },
          "metadata": {}
        }
      ]
    },
    {
      "cell_type": "code",
      "source": [
        "print(\"Label Encoder Data:\")\n",
        "print(Banking_Marketing_df.head())"
      ],
      "metadata": {
        "colab": {
          "base_uri": "https://localhost:8080/",
          "height": 416
        },
        "id": "BlJehsNFrJWe",
        "outputId": "61037182-cdb6-47ad-9b2e-51c83e6e95c7"
      },
      "execution_count": 45,
      "outputs": [
        {
          "output_type": "display_data",
          "data": {
            "text/plain": [
              "<IPython.core.display.HTML object>"
            ],
            "text/html": [
              "\n",
              "  <style>\n",
              "    pre {\n",
              "        white-space: pre-wrap;\n",
              "    }\n",
              "  </style>\n",
              "  "
            ]
          },
          "metadata": {}
        },
        {
          "output_type": "stream",
          "name": "stdout",
          "text": [
            "Label Encoder Data:\n",
            "    age  job  marital  education  default  housing  loan  contact  month  \\\n",
            "0  44.0    1        1          1        1        2     1        0      1   \n",
            "1  53.0    9        1          8        0        0     1        0      7   \n",
            "2  28.0    4        2          7        0        2     1        0      4   \n",
            "3  39.0    7        1          4        0        0     1        0      0   \n",
            "4  55.0    5        1          1        0        2     1        0      1   \n",
            "\n",
            "   day_of_week  ...  campaign  pdays  previous  poutcome  emp_var_rate  \\\n",
            "0            2  ...         1    999         0         1           1.4   \n",
            "1            0  ...         1    999         0         1          -0.1   \n",
            "2            2  ...         3      6         2         2          -1.7   \n",
            "3            0  ...         2    999         0         1          -1.8   \n",
            "4            0  ...         1      3         1         2          -2.9   \n",
            "\n",
            "   cons_price_idx  cons_conf_idx  euribor3m  nr_employed  y  \n",
            "0          93.444          -36.1      4.963       5228.1  0  \n",
            "1          93.200          -42.0      4.021       5195.8  0  \n",
            "2          94.055          -39.8      0.729       4991.6  1  \n",
            "3          93.075          -47.1      1.405       5099.1  0  \n",
            "4          92.201          -31.4      0.869       5076.2  1  \n",
            "\n",
            "[5 rows x 21 columns]\n"
          ]
        }
      ]
    },
    {
      "cell_type": "code",
      "source": [],
      "metadata": {
        "id": "ixvwMXtirMiV"
      },
      "execution_count": null,
      "outputs": []
    }
  ]
}