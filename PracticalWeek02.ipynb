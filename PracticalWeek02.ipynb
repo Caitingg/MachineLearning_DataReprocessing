{
  "nbformat": 4,
  "nbformat_minor": 0,
  "metadata": {
    "colab": {
      "provenance": [],
      "authorship_tag": "ABX9TyOM7zqz6njdhGy8FFwg2VOc",
      "include_colab_link": true
    },
    "kernelspec": {
      "name": "python3",
      "display_name": "Python 3"
    },
    "language_info": {
      "name": "python"
    }
  },
  "cells": [
    {
      "cell_type": "markdown",
      "metadata": {
        "id": "view-in-github",
        "colab_type": "text"
      },
      "source": [
        "<a href=\"https://colab.research.google.com/github/Caitingg/MachineLearning_DataReprocessing/blob/main/PracticalWeek02.ipynb\" target=\"_parent\"><img src=\"https://colab.research.google.com/assets/colab-badge.svg\" alt=\"Open In Colab\"/></a>"
      ]
    },
    {
      "cell_type": "code",
      "execution_count": 8,
      "metadata": {
        "id": "fUYENUgk7bRX"
      },
      "outputs": [],
      "source": [
        "\n",
        "from IPython.display import HTML, display\n",
        "\n",
        "def set_css():\n",
        "  display(HTML('''\n",
        "  <style>\n",
        "    pre {\n",
        "        white-space: pre-wrap;\n",
        "    }\n",
        "  </style>\n",
        "  '''))\n",
        "get_ipython().events.register('pre_run_cell', set_css)\n"
      ]
    },
    {
      "cell_type": "code",
      "source": [
        "import io\n",
        "import requests\n",
        "from google.colab import drive\n",
        "drive.mount('/content/gdrive', force_remount=True)"
      ],
      "metadata": {
        "colab": {
          "base_uri": "https://localhost:8080/",
          "height": 34
        },
        "id": "lvxuOYbK99G_",
        "outputId": "a836a606-99a9-49d9-dd97-83ffe880c118"
      },
      "execution_count": 9,
      "outputs": [
        {
          "output_type": "display_data",
          "data": {
            "text/plain": [
              "<IPython.core.display.HTML object>"
            ],
            "text/html": [
              "\n",
              "  <style>\n",
              "    pre {\n",
              "        white-space: pre-wrap;\n",
              "    }\n",
              "  </style>\n",
              "  "
            ]
          },
          "metadata": {}
        },
        {
          "output_type": "stream",
          "name": "stdout",
          "text": [
            "Mounted at /content/gdrive\n"
          ]
        }
      ]
    },
    {
      "cell_type": "code",
      "source": [
        "\n",
        "import pandas as pd\n",
        "DATA_DIR_1 = \"/content/Banking_Marketing.csv\"\n",
        "Banking_Marketing_df = pd.read_csv (DATA_DIR_1, header=0)"
      ],
      "metadata": {
        "colab": {
          "base_uri": "https://localhost:8080/",
          "height": 17
        },
        "id": "Smgft8nC-ZCZ",
        "outputId": "477b10a8-50aa-49f5-9d86-58915c34c721"
      },
      "execution_count": 10,
      "outputs": [
        {
          "output_type": "display_data",
          "data": {
            "text/plain": [
              "<IPython.core.display.HTML object>"
            ],
            "text/html": [
              "\n",
              "  <style>\n",
              "    pre {\n",
              "        white-space: pre-wrap;\n",
              "    }\n",
              "  </style>\n",
              "  "
            ]
          },
          "metadata": {}
        }
      ]
    },
    {
      "cell_type": "code",
      "source": [
        "print (Banking_Marketing_df.dtypes)"
      ],
      "metadata": {
        "colab": {
          "base_uri": "https://localhost:8080/",
          "height": 399
        },
        "id": "1Vs7tzOB-0u9",
        "outputId": "d16e1a58-07ac-4022-e05f-753938556a5b"
      },
      "execution_count": 11,
      "outputs": [
        {
          "output_type": "display_data",
          "data": {
            "text/plain": [
              "<IPython.core.display.HTML object>"
            ],
            "text/html": [
              "\n",
              "  <style>\n",
              "    pre {\n",
              "        white-space: pre-wrap;\n",
              "    }\n",
              "  </style>\n",
              "  "
            ]
          },
          "metadata": {}
        },
        {
          "output_type": "stream",
          "name": "stdout",
          "text": [
            "age               float64\n",
            "job                object\n",
            "marital            object\n",
            "education          object\n",
            "default            object\n",
            "housing            object\n",
            "loan               object\n",
            "contact            object\n",
            "month              object\n",
            "day_of_week        object\n",
            "duration          float64\n",
            "campaign            int64\n",
            "pdays               int64\n",
            "previous            int64\n",
            "poutcome           object\n",
            "emp_var_rate      float64\n",
            "cons_price_idx    float64\n",
            "cons_conf_idx     float64\n",
            "euribor3m         float64\n",
            "nr_employed       float64\n",
            "y                   int64\n",
            "dtype: object\n"
          ]
        }
      ]
    },
    {
      "cell_type": "code",
      "source": [
        "print(\"Find missing value of each column using isna()\")\n",
        "print (Banking_Marketing_df.isna().sum())"
      ],
      "metadata": {
        "colab": {
          "base_uri": "https://localhost:8080/",
          "height": 416
        },
        "id": "nlXDqwR-_Nl7",
        "outputId": "1ae72c20-3a38-497c-fd43-a0cdb0b9f452"
      },
      "execution_count": 12,
      "outputs": [
        {
          "output_type": "display_data",
          "data": {
            "text/plain": [
              "<IPython.core.display.HTML object>"
            ],
            "text/html": [
              "\n",
              "  <style>\n",
              "    pre {\n",
              "        white-space: pre-wrap;\n",
              "    }\n",
              "  </style>\n",
              "  "
            ]
          },
          "metadata": {}
        },
        {
          "output_type": "stream",
          "name": "stdout",
          "text": [
            "Find missing value of each column using isna()\n",
            "age               2\n",
            "job               0\n",
            "marital           0\n",
            "education         0\n",
            "default           0\n",
            "housing           0\n",
            "loan              0\n",
            "contact           6\n",
            "month             0\n",
            "day_of_week       0\n",
            "duration          7\n",
            "campaign          0\n",
            "pdays             0\n",
            "previous          0\n",
            "poutcome          0\n",
            "emp_var_rate      0\n",
            "cons_price_idx    0\n",
            "cons_conf_idx     0\n",
            "euribor3m         0\n",
            "nr_employed       0\n",
            "y                 0\n",
            "dtype: int64\n"
          ]
        }
      ]
    },
    {
      "cell_type": "code",
      "source": [
        "print(\"\\nRemove all rows with missing data by using dropna()\")\n",
        "data = Banking_Marketing_df.dropna ()\n",
        "print(data.isna().sum())"
      ],
      "metadata": {
        "colab": {
          "base_uri": "https://localhost:8080/",
          "height": 433
        },
        "id": "r9DfLcZl_opN",
        "outputId": "340e8920-1e37-4b16-d348-ea7b983ca647"
      },
      "execution_count": 13,
      "outputs": [
        {
          "output_type": "display_data",
          "data": {
            "text/plain": [
              "<IPython.core.display.HTML object>"
            ],
            "text/html": [
              "\n",
              "  <style>\n",
              "    pre {\n",
              "        white-space: pre-wrap;\n",
              "    }\n",
              "  </style>\n",
              "  "
            ]
          },
          "metadata": {}
        },
        {
          "output_type": "stream",
          "name": "stdout",
          "text": [
            "\n",
            "Remove all rows with missing data by using dropna()\n",
            "age               0\n",
            "job               0\n",
            "marital           0\n",
            "education         0\n",
            "default           0\n",
            "housing           0\n",
            "loan              0\n",
            "contact           0\n",
            "month             0\n",
            "day_of_week       0\n",
            "duration          0\n",
            "campaign          0\n",
            "pdays             0\n",
            "previous          0\n",
            "poutcome          0\n",
            "emp_var_rate      0\n",
            "cons_price_idx    0\n",
            "cons_conf_idx     0\n",
            "euribor3m         0\n",
            "nr_employed       0\n",
            "y                 0\n",
            "dtype: int64\n"
          ]
        }
      ]
    },
    {
      "cell_type": "code",
      "source": [
        "print(Banking_Marketing_df.isna().sum())"
      ],
      "metadata": {
        "colab": {
          "base_uri": "https://localhost:8080/",
          "height": 399
        },
        "id": "lCTlldUjAnGA",
        "outputId": "653fafcd-cc78-4a83-848b-b1e2190c0546"
      },
      "execution_count": 14,
      "outputs": [
        {
          "output_type": "display_data",
          "data": {
            "text/plain": [
              "<IPython.core.display.HTML object>"
            ],
            "text/html": [
              "\n",
              "  <style>\n",
              "    pre {\n",
              "        white-space: pre-wrap;\n",
              "    }\n",
              "  </style>\n",
              "  "
            ]
          },
          "metadata": {}
        },
        {
          "output_type": "stream",
          "name": "stdout",
          "text": [
            "age               2\n",
            "job               0\n",
            "marital           0\n",
            "education         0\n",
            "default           0\n",
            "housing           0\n",
            "loan              0\n",
            "contact           6\n",
            "month             0\n",
            "day_of_week       0\n",
            "duration          7\n",
            "campaign          0\n",
            "pdays             0\n",
            "previous          0\n",
            "poutcome          0\n",
            "emp_var_rate      0\n",
            "cons_price_idx    0\n",
            "cons_conf_idx     0\n",
            "euribor3m         0\n",
            "nr_employed       0\n",
            "y                 0\n",
            "dtype: int64\n"
          ]
        }
      ]
    },
    {
      "cell_type": "code",
      "source": [
        "mean_age = Banking_Marketing_df.age.mean ()\n",
        "print()\n",
        "print (\"Mean age: %.2f\" % mean_age)\n",
        "\n",
        "Banking_Marketing_df.age.fillna(mean_age, inplace=True)\n",
        "print(\"\\nImpute missing data with mean value:\")\n",
        "print (Banking_Marketing_df.isna().sum())"
      ],
      "metadata": {
        "colab": {
          "base_uri": "https://localhost:8080/",
          "height": 468
        },
        "id": "GHQ7B6TlAo1V",
        "outputId": "3bf2cae4-4f6a-4632-fae8-fc0627c46e65"
      },
      "execution_count": 15,
      "outputs": [
        {
          "output_type": "display_data",
          "data": {
            "text/plain": [
              "<IPython.core.display.HTML object>"
            ],
            "text/html": [
              "\n",
              "  <style>\n",
              "    pre {\n",
              "        white-space: pre-wrap;\n",
              "    }\n",
              "  </style>\n",
              "  "
            ]
          },
          "metadata": {}
        },
        {
          "output_type": "stream",
          "name": "stdout",
          "text": [
            "\n",
            "Mean age: 40.02\n",
            "\n",
            "Impute missing data with mean value:\n",
            "age               0\n",
            "job               0\n",
            "marital           0\n",
            "education         0\n",
            "default           0\n",
            "housing           0\n",
            "loan              0\n",
            "contact           6\n",
            "month             0\n",
            "day_of_week       0\n",
            "duration          7\n",
            "campaign          0\n",
            "pdays             0\n",
            "previous          0\n",
            "poutcome          0\n",
            "emp_var_rate      0\n",
            "cons_price_idx    0\n",
            "cons_conf_idx     0\n",
            "euribor3m         0\n",
            "nr_employed       0\n",
            "y                 0\n",
            "dtype: int64\n"
          ]
        }
      ]
    },
    {
      "cell_type": "code",
      "source": [
        "median_duration = Banking_Marketing_df.duration.median()\n",
        "print (\"\\nMedian duration: %.2f\" % median_duration)\n",
        "\n",
        "Banking_Marketing_df.duration.fillna(median_duration, inplace=True)\n",
        "print(\"\\nImpute missing data with median value:\")\n",
        "print (Banking_Marketing_df.isna().sum())"
      ],
      "metadata": {
        "colab": {
          "base_uri": "https://localhost:8080/",
          "height": 468
        },
        "id": "lS-AgHQ-CvBW",
        "outputId": "d106df55-d02c-48e9-bd42-37783ce95eec"
      },
      "execution_count": 16,
      "outputs": [
        {
          "output_type": "display_data",
          "data": {
            "text/plain": [
              "<IPython.core.display.HTML object>"
            ],
            "text/html": [
              "\n",
              "  <style>\n",
              "    pre {\n",
              "        white-space: pre-wrap;\n",
              "    }\n",
              "  </style>\n",
              "  "
            ]
          },
          "metadata": {}
        },
        {
          "output_type": "stream",
          "name": "stdout",
          "text": [
            "\n",
            "Median duration: 180.00\n",
            "\n",
            "Impute missing data with median value:\n",
            "age               0\n",
            "job               0\n",
            "marital           0\n",
            "education         0\n",
            "default           0\n",
            "housing           0\n",
            "loan              0\n",
            "contact           6\n",
            "month             0\n",
            "day_of_week       0\n",
            "duration          0\n",
            "campaign          0\n",
            "pdays             0\n",
            "previous          0\n",
            "poutcome          0\n",
            "emp_var_rate      0\n",
            "cons_price_idx    0\n",
            "cons_conf_idx     0\n",
            "euribor3m         0\n",
            "nr_employed       0\n",
            "y                 0\n",
            "dtype: int64\n"
          ]
        }
      ]
    },
    {
      "cell_type": "code",
      "source": [
        "# Computation of the Mean value by using mean ()\n",
        "mean_age = Banking_Marketing_df.age.mean ()\n",
        "print()\n",
        "print (\"Mean age: %.2f\" % mean_age)\n",
        "\n",
        "# Impute the missing data with its mean by using fillna ()\n",
        "Banking_Marketing_df.age.fillna(mean_age, inplace=True)\n",
        "print(\"\\nImpute missing data with mean value:\")\n",
        "print (Banking_Marketing_df.isna().sum())\n",
        "\n",
        "# Computation of Median value by using median ()\n",
        "# used median because the 'duration' variable is too diverse\n",
        "median_duration = Banking_Marketing_df.duration.median()\n",
        "print (\"\\nMedian duration: %.2f\" % median_duration)\n",
        "\n",
        "# Impute the missing data with its median by using fillna ()\n",
        "Banking_Marketing_df.duration.fillna(median_duration, inplace=True)\n",
        "print(\"\\nImpute missing data with median value:\")\n",
        "print (Banking_Marketing_df.isna().sum())\n",
        "\n",
        "# Impute Categorical Data with its mode by using mode ()\n",
        "# find out the mode\n",
        "mode_contact = Banking_Marketing_df.contact.mode()[0]\n",
        "print(\"\\nImpute categorical data with its mode:\")\n",
        "print (mode_contact)\n",
        "\n",
        "# impute using fillna. Used mode to find the most popular contact\n",
        "Banking_Marketing_df.contact.fillna (mode_contact, inplace = True)\n",
        "print(\"\\nImpute missing data with mode (most popular contact):\")\n",
        "print (Banking_Marketing_df.isna().sum())"
      ],
      "metadata": {
        "colab": {
          "base_uri": "https://localhost:8080/",
          "height": 1000
        },
        "id": "SRf1-zQ_ergu",
        "outputId": "8db33d0a-d3e8-4ec0-ccd1-5000b3d08b2c"
      },
      "execution_count": 17,
      "outputs": [
        {
          "output_type": "display_data",
          "data": {
            "text/plain": [
              "<IPython.core.display.HTML object>"
            ],
            "text/html": [
              "\n",
              "  <style>\n",
              "    pre {\n",
              "        white-space: pre-wrap;\n",
              "    }\n",
              "  </style>\n",
              "  "
            ]
          },
          "metadata": {}
        },
        {
          "output_type": "stream",
          "name": "stdout",
          "text": [
            "\n",
            "Mean age: 40.02\n",
            "\n",
            "Impute missing data with mean value:\n",
            "age               0\n",
            "job               0\n",
            "marital           0\n",
            "education         0\n",
            "default           0\n",
            "housing           0\n",
            "loan              0\n",
            "contact           6\n",
            "month             0\n",
            "day_of_week       0\n",
            "duration          0\n",
            "campaign          0\n",
            "pdays             0\n",
            "previous          0\n",
            "poutcome          0\n",
            "emp_var_rate      0\n",
            "cons_price_idx    0\n",
            "cons_conf_idx     0\n",
            "euribor3m         0\n",
            "nr_employed       0\n",
            "y                 0\n",
            "dtype: int64\n",
            "\n",
            "Median duration: 180.00\n",
            "\n",
            "Impute missing data with median value:\n",
            "age               0\n",
            "job               0\n",
            "marital           0\n",
            "education         0\n",
            "default           0\n",
            "housing           0\n",
            "loan              0\n",
            "contact           6\n",
            "month             0\n",
            "day_of_week       0\n",
            "duration          0\n",
            "campaign          0\n",
            "pdays             0\n",
            "previous          0\n",
            "poutcome          0\n",
            "emp_var_rate      0\n",
            "cons_price_idx    0\n",
            "cons_conf_idx     0\n",
            "euribor3m         0\n",
            "nr_employed       0\n",
            "y                 0\n",
            "dtype: int64\n",
            "\n",
            "Impute categorical data with its mode:\n",
            "cellular\n",
            "\n",
            "Impute missing data with mode (most popular contact):\n",
            "age               0\n",
            "job               0\n",
            "marital           0\n",
            "education         0\n",
            "default           0\n",
            "housing           0\n",
            "loan              0\n",
            "contact           0\n",
            "month             0\n",
            "day_of_week       0\n",
            "duration          0\n",
            "campaign          0\n",
            "pdays             0\n",
            "previous          0\n",
            "poutcome          0\n",
            "emp_var_rate      0\n",
            "cons_price_idx    0\n",
            "cons_conf_idx     0\n",
            "euribor3m         0\n",
            "nr_employed       0\n",
            "y                 0\n",
            "dtype: int64\n"
          ]
        }
      ]
    },
    {
      "cell_type": "code",
      "source": [
        "DATA_DIR_2 = \"/content/german_credit_card.csv\"\n",
        "german_credit_df = pd.read_csv (DATA_DIR_2, header=0)"
      ],
      "metadata": {
        "colab": {
          "base_uri": "https://localhost:8080/",
          "height": 17
        },
        "id": "uAjB9kPAi_-t",
        "outputId": "61227231-d435-4734-f4f1-1e8ad3f88279"
      },
      "execution_count": 18,
      "outputs": [
        {
          "output_type": "display_data",
          "data": {
            "text/plain": [
              "<IPython.core.display.HTML object>"
            ],
            "text/html": [
              "\n",
              "  <style>\n",
              "    pre {\n",
              "        white-space: pre-wrap;\n",
              "    }\n",
              "  </style>\n",
              "  "
            ]
          },
          "metadata": {}
        }
      ]
    },
    {
      "cell_type": "code",
      "source": [
        "german_credit_df.shape"
      ],
      "metadata": {
        "colab": {
          "base_uri": "https://localhost:8080/",
          "height": 34
        },
        "id": "SuHBbEGejF4Y",
        "outputId": "9d21492c-372c-470b-e7ab-d8d8015f71d6"
      },
      "execution_count": 19,
      "outputs": [
        {
          "output_type": "display_data",
          "data": {
            "text/plain": [
              "<IPython.core.display.HTML object>"
            ],
            "text/html": [
              "\n",
              "  <style>\n",
              "    pre {\n",
              "        white-space: pre-wrap;\n",
              "    }\n",
              "  </style>\n",
              "  "
            ]
          },
          "metadata": {}
        },
        {
          "output_type": "execute_result",
          "data": {
            "text/plain": [
              "(1000, 11)"
            ]
          },
          "metadata": {},
          "execution_count": 19
        }
      ]
    },
    {
      "cell_type": "code",
      "source": [
        "# Display a BoxPlot\n",
        "import pandas as pd\n",
        "import numpy as np\n",
        "import matplotlib\n",
        "import seaborn as sbn\n",
        "sbn.boxplot(german_credit_df['Age'])\n",
        "\n",
        "# Compute the Interquartile Range (IQR)\n",
        "Q1 = german_credit_df['Age'].quantile(0.25)\n",
        "Q3 = german_credit_df['Age'].quantile(0.75)\n",
        "IQR = Q3 - Q1\n",
        "print (\"IQR: %.2f\" %IQR)\n",
        "\n",
        "# Calculate the Lower and Upper Fence\n",
        "Lower_Fence = Q1 - (1.5 * IQR)\n",
        "print (\"Lower_Fence: %.2f\" %Lower_Fence)\n",
        "Upper_Fence = Q3 + (1.5 * IQR)\n",
        "print (\"Upper_Fence: %.2f\" %Upper_Fence)\n",
        "\n",
        "# Display Outliers and Filtering Out the Outliers\n",
        "print(\"\\nDisplay Outliers\")\n",
        "print (german_credit_df[((german_credit_df[\"Age\"] < Lower_Fence) | (german_credit_df[\"Age\"] > Upper_Fence))])\n",
        "\n",
        "# display data with outliers filtered out, use ~ to filter\n",
        "print(\"\\nDisplay data without outliers\")\n",
        "print (german_credit_df[~((german_credit_df[\"Age\"] < Lower_Fence) | (german_credit_df[\"Age\"] > Upper_Fence))])"
      ],
      "metadata": {
        "colab": {
          "base_uri": "https://localhost:8080/",
          "height": 1000
        },
        "id": "6VWN83eejJ5X",
        "outputId": "a658207f-0749-4596-8522-8a6da5836f56"
      },
      "execution_count": 20,
      "outputs": [
        {
          "output_type": "display_data",
          "data": {
            "text/plain": [
              "<IPython.core.display.HTML object>"
            ],
            "text/html": [
              "\n",
              "  <style>\n",
              "    pre {\n",
              "        white-space: pre-wrap;\n",
              "    }\n",
              "  </style>\n",
              "  "
            ]
          },
          "metadata": {}
        },
        {
          "output_type": "stream",
          "name": "stdout",
          "text": [
            "IQR: 15.00\n",
            "Lower_Fence: 4.50\n",
            "Upper_Fence: 64.50\n",
            "\n",
            "Display Outliers\n",
            "     Unnamed: 0  Unnamed: 1  Age     Sex  Job Housing Saving accounts  \\\n",
            "0           NaN           0   67    male    2     own             NaN   \n",
            "75          NaN          75   66    male    3    free          little   \n",
            "137         NaN         137   66    male    1     own      quite rich   \n",
            "163         NaN         163   70    male    3    free          little   \n",
            "179         NaN         179   65    male    2     own          little   \n",
            "186         NaN         186   74  female    3    free          little   \n",
            "187         NaN         187   68    male    0    free          little   \n",
            "213         NaN         213   66    male    3     own          little   \n",
            "330         NaN         330   75    male    3    free          little   \n",
            "430         NaN         430   74    male    1     own          little   \n",
            "438         NaN         438   65    male    0     own          little   \n",
            "536         NaN         536   75  female    3     own             NaN   \n",
            "554         NaN         554   67  female    3     own          little   \n",
            "606         NaN         606   74    male    3     own          little   \n",
            "624         NaN         624   65    male    2    free          little   \n",
            "723         NaN         723   66  female    1     own      quite rich   \n",
            "756         NaN         756   74    male    0     own          little   \n",
            "774         NaN         774   66    male    0    free      quite rich   \n",
            "779         NaN         779   67  female    2     own          little   \n",
            "807         NaN         807   65    male    2     own             NaN   \n",
            "846         NaN         846   68    male    2    rent             NaN   \n",
            "883         NaN         883   65  female    0     own          little   \n",
            "917         NaN         917   68    male    3     own          little   \n",
            "\n",
            "    Checking account  Credit amount  Duration    Purpose  \n",
            "0             little           1169         6   radio/TV  \n",
            "75            little           1526        12        car  \n",
            "137         moderate            766        12   radio/TV  \n",
            "163         moderate           7308        10        car  \n",
            "179           little            571        21        car  \n",
            "186         moderate           5129         9        car  \n",
            "187         moderate           1175        16        car  \n",
            "213             rich           1908        30   business  \n",
            "330           little           6615        24        car  \n",
            "430              NaN           3448         5   business  \n",
            "438           little           3394        42    repairs  \n",
            "536           little           1374         6        car  \n",
            "554         moderate           1199         9  education  \n",
            "606              NaN           4526        24   business  \n",
            "624           little           2600        18   radio/TV  \n",
            "723         moderate            790         9   radio/TV  \n",
            "756             rich           1299         6        car  \n",
            "774             rich           1480        12        car  \n",
            "779         moderate           3872        18    repairs  \n",
            "807              NaN            930        12   radio/TV  \n",
            "846              NaN           6761        18        car  \n",
            "883              NaN           1098        18   radio/TV  \n",
            "917           little          14896         6        car  \n",
            "\n",
            "Display data without outliers\n",
            "     Unnamed: 0  Unnamed: 1  Age     Sex  Job Housing Saving accounts  \\\n",
            "1           NaN           1   22  female    2     own          little   \n",
            "2           NaN           2   49    male    1     own          little   \n",
            "3           NaN           3   45    male    2    free          little   \n",
            "4           NaN           4   53    male    2    free          little   \n",
            "5           NaN           5   35    male    1    free             NaN   \n",
            "..          ...         ...  ...     ...  ...     ...             ...   \n",
            "995         NaN         995   31  female    1     own          little   \n",
            "996         NaN         996   40    male    3     own          little   \n",
            "997         NaN         997   38    male    2     own          little   \n",
            "998         NaN         998   23    male    2    free          little   \n",
            "999         NaN         999   27    male    2     own        moderate   \n",
            "\n",
            "    Checking account  Credit amount  Duration              Purpose  \n",
            "1           moderate           5951        48             radio/TV  \n",
            "2                NaN           2096        12            education  \n",
            "3             little           7882        42  furniture/equipment  \n",
            "4             little           4870        24                  car  \n",
            "5                NaN           9055        36            education  \n",
            "..               ...            ...       ...                  ...  \n",
            "995              NaN           1736        12  furniture/equipment  \n",
            "996           little           3857        30                  car  \n",
            "997              NaN            804        12             radio/TV  \n",
            "998           little           1845        45             radio/TV  \n",
            "999         moderate           4576        45                  car  \n",
            "\n",
            "[977 rows x 11 columns]\n"
          ]
        },
        {
          "output_type": "display_data",
          "data": {
            "text/plain": [
              "<Figure size 640x480 with 1 Axes>"
            ],
            "image/png": "[encoded data removed]"
          },
          "metadata": {}
        }
      ]
    },
    {
      "cell_type": "code",
      "source": [
        "german_credit_remOutliers = (german_credit_df[~((german_credit_df[\"Age\"] < Lower_Fence) | (german_credit_df[\"Age\"] > Upper_Fence))])\n",
        "german_credit_remOutliers.shape"
      ],
      "metadata": {
        "colab": {
          "base_uri": "https://localhost:8080/",
          "height": 34
        },
        "id": "adNXqVA0jSMe",
        "outputId": "276d771d-0827-4451-e8e2-ea4125ee4c44"
      },
      "execution_count": 21,
      "outputs": [
        {
          "output_type": "display_data",
          "data": {
            "text/plain": [
              "<IPython.core.display.HTML object>"
            ],
            "text/html": [
              "\n",
              "  <style>\n",
              "    pre {\n",
              "        white-space: pre-wrap;\n",
              "    }\n",
              "  </style>\n",
              "  "
            ]
          },
          "metadata": {}
        },
        {
          "output_type": "execute_result",
          "data": {
            "text/plain": [
              "(977, 11)"
            ]
          },
          "metadata": {},
          "execution_count": 21
        }
      ]
    },
    {
      "cell_type": "code",
      "source": [
        "# Compute new quantile range after remove outliers\n",
        "# Compute the Interquartile Range (IQR)\n",
        "Q1b = german_credit_remOutliers['Age'].quantile(0.25)\n",
        "Q3b = german_credit_remOutliers['Age'].quantile(0.75)\n",
        "IQRb = Q3b - Q1b\n",
        "print (\"IQRb: %.2f\" %IQRb)\n",
        "\n",
        "# Calculate the Lower and Upper Fence\n",
        "Lower_Fence_b = Q1b - (1.5 * IQRb)\n",
        "print (\"Lower_Fence: %.2f\" %Lower_Fence_b)\n",
        "Upper_Fence_b = Q3 + (1.5 * IQRb)\n",
        "print (\"Upper_Fence: %.2f\" %Upper_Fence_b)"
      ],
      "metadata": {
        "colab": {
          "base_uri": "https://localhost:8080/",
          "height": 69
        },
        "id": "uI3caBT9oNPa",
        "outputId": "50220ddc-2580-47db-f77b-2f2cd3da9395"
      },
      "execution_count": 22,
      "outputs": [
        {
          "output_type": "display_data",
          "data": {
            "text/plain": [
              "<IPython.core.display.HTML object>"
            ],
            "text/html": [
              "\n",
              "  <style>\n",
              "    pre {\n",
              "        white-space: pre-wrap;\n",
              "    }\n",
              "  </style>\n",
              "  "
            ]
          },
          "metadata": {}
        },
        {
          "output_type": "stream",
          "name": "stdout",
          "text": [
            "IQRb: 14.00\n",
            "Lower_Fence: 6.00\n",
            "Upper_Fence: 63.00\n"
          ]
        }
      ]
    },
    {
      "cell_type": "code",
      "source": [
        "sbn.boxplot(german_credit_remOutliers['Age'])\n",
        "# Use showfliers=False if you want to disable outliers from boxplot"
      ],
      "metadata": {
        "colab": {
          "base_uri": "https://localhost:8080/",
          "height": 428
        },
        "id": "WmCENh0doTBo",
        "outputId": "f126048c-410e-4097-efb8-ff19e694c50c"
      },
      "execution_count": 23,
      "outputs": [
        {
          "output_type": "display_data",
          "data": {
            "text/plain": [
              "<IPython.core.display.HTML object>"
            ],
            "text/html": [
              "\n",
              "  <style>\n",
              "    pre {\n",
              "        white-space: pre-wrap;\n",
              "    }\n",
              "  </style>\n",
              "  "
            ]
          },
          "metadata": {}
        },
        {
          "output_type": "execute_result",
          "data": {
            "text/plain": [
              "<Axes: ylabel='Age'>"
            ]
          },
          "metadata": {},
          "execution_count": 23
        },
        {
          "output_type": "display_data",
          "data": {
            "text/plain": [
              "<Figure size 640x480 with 1 Axes>"
            ],
            "image/png": "[encoded data removed]"
          },
          "metadata": {}
        }
      ]
    },
    {
      "cell_type": "code",
      "source": [
        "# Check condition based on the firstly calculated IQR → results return empty df\n",
        "# Display Outliers and Filtering Out the Outliers\n",
        "print(\"\\nDisplay Outliers\")\n",
        "print (german_credit_remOutliers[((german_credit_remOutliers[\"Age\"] < Lower_Fence) | (german_credit_remOutliers[\"Age\"] > Upper_Fence))])"
      ],
      "metadata": {
        "colab": {
          "base_uri": "https://localhost:8080/",
          "height": 104
        },
        "id": "7w2eHDhCoWkf",
        "outputId": "a3f84c10-848e-4787-ba64-3a39a3ec5a88"
      },
      "execution_count": 24,
      "outputs": [
        {
          "output_type": "display_data",
          "data": {
            "text/plain": [
              "<IPython.core.display.HTML object>"
            ],
            "text/html": [
              "\n",
              "  <style>\n",
              "    pre {\n",
              "        white-space: pre-wrap;\n",
              "    }\n",
              "  </style>\n",
              "  "
            ]
          },
          "metadata": {}
        },
        {
          "output_type": "stream",
          "name": "stdout",
          "text": [
            "\n",
            "Display Outliers\n",
            "Empty DataFrame\n",
            "Columns: [Unnamed: 0, Unnamed: 1, Age, Sex, Job, Housing, Saving accounts, Checking account, Credit amount, Duration, Purpose]\n",
            "Index: []\n"
          ]
        }
      ]
    },
    {
      "cell_type": "code",
      "source": [
        "# Check condition based on the newly calculated IQR → results return 5 rows with outliers\n",
        "# Note that the age 64 > new upper fence 63\n",
        "# Display Outliers and Filtering Out the Outliers\n",
        "print(\"\\nDisplay Outliers\")\n",
        "print (german_credit_remOutliers[((german_credit_remOutliers[\"Age\"] < Lower_Fence_b) | (german_credit_remOutliers[\"Age\"] > Upper_Fence_b))])"
      ],
      "metadata": {
        "colab": {
          "base_uri": "https://localhost:8080/",
          "height": 277
        },
        "id": "UvkikME9oYk9",
        "outputId": "079676a4-ebde-47b9-8c3c-29f08ed669f0"
      },
      "execution_count": 25,
      "outputs": [
        {
          "output_type": "display_data",
          "data": {
            "text/plain": [
              "<IPython.core.display.HTML object>"
            ],
            "text/html": [
              "\n",
              "  <style>\n",
              "    pre {\n",
              "        white-space: pre-wrap;\n",
              "    }\n",
              "  </style>\n",
              "  "
            ]
          },
          "metadata": {}
        },
        {
          "output_type": "stream",
          "name": "stdout",
          "text": [
            "\n",
            "Display Outliers\n",
            "     Unnamed: 0  Unnamed: 1  Age     Sex  Job Housing Saving accounts  \\\n",
            "219         NaN         219   64  female    2     own          little   \n",
            "629         NaN         629   64    male    1     own             NaN   \n",
            "678         NaN         678   64    male    1    rent          little   \n",
            "976         NaN         976   64  female    2     own          little   \n",
            "987         NaN         987   64  female    2     own        moderate   \n",
            "\n",
            "    Checking account  Credit amount  Duration    Purpose  \n",
            "219              NaN           1364        10        car  \n",
            "629              NaN           3832         9  education  \n",
            "678           little           2384        24   radio/TV  \n",
            "976         moderate            753         6   radio/TV  \n",
            "987              NaN           1409        13   radio/TV  \n"
          ]
        }
      ]
    },
    {
      "cell_type": "code",
      "source": [
        "# Import dataset\n",
        "import pandas as pd\n",
        "DATA_DIR_3 = \"/content/student.csv\"\n",
        "DATA_DIR_4 = \"/content/mark.csv\"\n",
        "student_df = pd.read_csv (DATA_DIR_3, header=0)\n",
        "marks_df = pd.read_csv (DATA_DIR_4, header=0)"
      ],
      "metadata": {
        "colab": {
          "base_uri": "https://localhost:8080/",
          "height": 17
        },
        "id": "s9gJioWko_mW",
        "outputId": "7fc6b65f-3116-4594-dfc4-ebf330b8a123"
      },
      "execution_count": 26,
      "outputs": [
        {
          "output_type": "display_data",
          "data": {
            "text/plain": [
              "<IPython.core.display.HTML object>"
            ],
            "text/html": [
              "\n",
              "  <style>\n",
              "    pre {\n",
              "        white-space: pre-wrap;\n",
              "    }\n",
              "  </style>\n",
              "  "
            ]
          },
          "metadata": {}
        }
      ]
    },
    {
      "cell_type": "code",
      "source": [
        "#Checking of Data\n",
        "print (student_df.head())\n",
        "print (marks_df.head())\n",
        "\n",
        "# Merging of DataFrame using the pd.merge ()\n",
        "df = pd.merge(student_df, marks_df, on = \"Student_id\")\n",
        "print (df.head (10))"
      ],
      "metadata": {
        "colab": {
          "base_uri": "https://localhost:8080/",
          "height": 416
        },
        "id": "YpqKbXaspNcq",
        "outputId": "de5a7b18-ed14-4fde-ec05-75a87d4d1ea7"
      },
      "execution_count": 27,
      "outputs": [
        {
          "output_type": "display_data",
          "data": {
            "text/plain": [
              "<IPython.core.display.HTML object>"
            ],
            "text/html": [
              "\n",
              "  <style>\n",
              "    pre {\n",
              "        white-space: pre-wrap;\n",
              "    }\n",
              "  </style>\n",
              "  "
            ]
          },
          "metadata": {}
        },
        {
          "output_type": "stream",
          "name": "stdout",
          "text": [
            "   Student_id  Age  Gender      Grade Employed\n",
            "0           1   19    Male  1st Class      yes\n",
            "1           2   20  Female  2nd Class       no\n",
            "2           3   18    Male  1st Class       no\n",
            "3           4   21  Female  2nd Class       no\n",
            "4           5   19    Male  1st Class       no\n",
            "   Student_id  Mark     City\n",
            "0           1    95  Chennai\n",
            "1           2    70    Delhi\n",
            "2           3    98   Mumbai\n",
            "3           4    75     Pune\n",
            "4           5    89    Kochi\n",
            "   Student_id  Age  Gender      Grade Employed  Mark     City\n",
            "0           1   19    Male  1st Class      yes    95  Chennai\n",
            "1           2   20  Female  2nd Class       no    70    Delhi\n",
            "2           3   18    Male  1st Class       no    98   Mumbai\n",
            "3           4   21  Female  2nd Class       no    75     Pune\n",
            "4           5   19    Male  1st Class       no    89    Kochi\n",
            "5           6   20    Male  2nd Class      yes    69  Gwalior\n",
            "6           7   19  Female  3rd Class      yes    52   Bhopal\n",
            "7           8   21    Male  3rd Class      yes    54  Chennai\n",
            "8           9   22  Female  3rd Class      yes    55    Delhi\n",
            "9          10   21    Male  1st Class       no    94   Mumbai\n"
          ]
        }
      ]
    },
    {
      "cell_type": "code",
      "source": [
        "import numpy as np\n",
        "\n",
        "# Separating Categorical Columns from Dataframe using select_dtypes()\n",
        "df_categorical = student_df.select_dtypes(exclude=[np.number]) # exclude numerical using numpy\n",
        "print(df_categorical)"
      ],
      "metadata": {
        "colab": {
          "base_uri": "https://localhost:8080/",
          "height": 260
        },
        "id": "_gYPJPXHpOof",
        "outputId": "621adfa6-4c8f-4a11-b312-35271708f9a9"
      },
      "execution_count": 28,
      "outputs": [
        {
          "output_type": "display_data",
          "data": {
            "text/plain": [
              "<IPython.core.display.HTML object>"
            ],
            "text/html": [
              "\n",
              "  <style>\n",
              "    pre {\n",
              "        white-space: pre-wrap;\n",
              "    }\n",
              "  </style>\n",
              "  "
            ]
          },
          "metadata": {}
        },
        {
          "output_type": "stream",
          "name": "stdout",
          "text": [
            "     Gender      Grade Employed\n",
            "0      Male  1st Class      yes\n",
            "1    Female  2nd Class       no\n",
            "2      Male  1st Class       no\n",
            "3    Female  2nd Class       no\n",
            "4      Male  1st Class       no\n",
            "..      ...        ...      ...\n",
            "227  Female  1st Class       no\n",
            "228    Male  2nd Class       no\n",
            "229    Male  3rd Class      yes\n",
            "230  Female  1st Class      yes\n",
            "231    Male  3rd Class      yes\n",
            "\n",
            "[232 rows x 3 columns]\n"
          ]
        }
      ]
    },
    {
      "cell_type": "code",
      "source": [
        "print(df_categorical['Grade'].unique())"
      ],
      "metadata": {
        "colab": {
          "base_uri": "https://localhost:8080/",
          "height": 34
        },
        "id": "HftA-Ykwp5Kk",
        "outputId": "7fb1e2b6-7fcc-4c2d-aa5e-7b228a660a6b"
      },
      "execution_count": 29,
      "outputs": [
        {
          "output_type": "display_data",
          "data": {
            "text/plain": [
              "<IPython.core.display.HTML object>"
            ],
            "text/html": [
              "\n",
              "  <style>\n",
              "    pre {\n",
              "        white-space: pre-wrap;\n",
              "    }\n",
              "  </style>\n",
              "  "
            ]
          },
          "metadata": {}
        },
        {
          "output_type": "stream",
          "name": "stdout",
          "text": [
            "['1st Class' '2nd Class' '3rd Class']\n"
          ]
        }
      ]
    },
    {
      "cell_type": "code",
      "source": [
        "print(df_categorical.Grade.value_counts())"
      ],
      "metadata": {
        "colab": {
          "base_uri": "https://localhost:8080/",
          "height": 86
        },
        "id": "G3spJx-lp6Dh",
        "outputId": "4705d8bc-9f98-46bf-c0e3-9a03dad467db"
      },
      "execution_count": 30,
      "outputs": [
        {
          "output_type": "display_data",
          "data": {
            "text/plain": [
              "<IPython.core.display.HTML object>"
            ],
            "text/html": [
              "\n",
              "  <style>\n",
              "    pre {\n",
              "        white-space: pre-wrap;\n",
              "    }\n",
              "  </style>\n",
              "  "
            ]
          },
          "metadata": {}
        },
        {
          "output_type": "stream",
          "name": "stdout",
          "text": [
            "2nd Class    80\n",
            "3rd Class    80\n",
            "1st Class    72\n",
            "Name: Grade, dtype: int64\n"
          ]
        }
      ]
    },
    {
      "cell_type": "code",
      "source": [
        "print(df_categorical.Gender.value_counts())"
      ],
      "metadata": {
        "colab": {
          "base_uri": "https://localhost:8080/",
          "height": 69
        },
        "id": "E7Y7K5g5qmdP",
        "outputId": "aae9af16-b5d5-4a9f-c5b5-4015106300e3"
      },
      "execution_count": 31,
      "outputs": [
        {
          "output_type": "display_data",
          "data": {
            "text/plain": [
              "<IPython.core.display.HTML object>"
            ],
            "text/html": [
              "\n",
              "  <style>\n",
              "    pre {\n",
              "        white-space: pre-wrap;\n",
              "    }\n",
              "  </style>\n",
              "  "
            ]
          },
          "metadata": {}
        },
        {
          "output_type": "stream",
          "name": "stdout",
          "text": [
            "Male      136\n",
            "Female     96\n",
            "Name: Gender, dtype: int64\n"
          ]
        }
      ]
    },
    {
      "cell_type": "code",
      "source": [
        "print(df_categorical.Employed.value_counts())"
      ],
      "metadata": {
        "colab": {
          "base_uri": "https://localhost:8080/",
          "height": 69
        },
        "id": "TdgxHFAkqnHF",
        "outputId": "db676afc-c4fe-47ea-e0eb-de2769c4d07a"
      },
      "execution_count": 32,
      "outputs": [
        {
          "output_type": "display_data",
          "data": {
            "text/plain": [
              "<IPython.core.display.HTML object>"
            ],
            "text/html": [
              "\n",
              "  <style>\n",
              "    pre {\n",
              "        white-space: pre-wrap;\n",
              "    }\n",
              "  </style>\n",
              "  "
            ]
          },
          "metadata": {}
        },
        {
          "output_type": "stream",
          "name": "stdout",
          "text": [
            "no     133\n",
            "yes     99\n",
            "Name: Employed, dtype: int64\n"
          ]
        }
      ]
    },
    {
      "cell_type": "code",
      "source": [
        "df_categorical.Grade.replace({\"1st Class\": 1, \"2nd Class\": 2, \"3rd Class\": 3 }, inplace=True)"
      ],
      "metadata": {
        "colab": {
          "base_uri": "https://localhost:8080/",
          "height": 17
        },
        "id": "1AVzNx6XqpJ3",
        "outputId": "af1773cf-7704-4eca-d7a6-47240ef231a1"
      },
      "execution_count": 33,
      "outputs": [
        {
          "output_type": "display_data",
          "data": {
            "text/plain": [
              "<IPython.core.display.HTML object>"
            ],
            "text/html": [
              "\n",
              "  <style>\n",
              "    pre {\n",
              "        white-space: pre-wrap;\n",
              "    }\n",
              "  </style>\n",
              "  "
            ]
          },
          "metadata": {}
        }
      ]
    },
    {
      "cell_type": "code",
      "source": [
        "df_categorical.Gender.replace({\"Male\": 0, \"Female\": 1}, inplace=True)"
      ],
      "metadata": {
        "colab": {
          "base_uri": "https://localhost:8080/",
          "height": 17
        },
        "id": "sX4P6YqfqxcY",
        "outputId": "ba52fb22-e3ce-4e79-fc2d-e24ae3b06898"
      },
      "execution_count": 34,
      "outputs": [
        {
          "output_type": "display_data",
          "data": {
            "text/plain": [
              "<IPython.core.display.HTML object>"
            ],
            "text/html": [
              "\n",
              "  <style>\n",
              "    pre {\n",
              "        white-space: pre-wrap;\n",
              "    }\n",
              "  </style>\n",
              "  "
            ]
          },
          "metadata": {}
        }
      ]
    },
    {
      "cell_type": "code",
      "source": [
        "df_categorical.Employed.replace({\"yes\": 1, \"no\": 2}, inplace=True)\n",
        "print (df_categorical.head())\n"
      ],
      "metadata": {
        "colab": {
          "base_uri": "https://localhost:8080/",
          "height": 121
        },
        "id": "yS2osmTuqyiO",
        "outputId": "e49ea3c8-0e3a-4e97-bd82-942fa79d75a8"
      },
      "execution_count": 35,
      "outputs": [
        {
          "output_type": "display_data",
          "data": {
            "text/plain": [
              "<IPython.core.display.HTML object>"
            ],
            "text/html": [
              "\n",
              "  <style>\n",
              "    pre {\n",
              "        white-space: pre-wrap;\n",
              "    }\n",
              "  </style>\n",
              "  "
            ]
          },
          "metadata": {}
        },
        {
          "output_type": "stream",
          "name": "stdout",
          "text": [
            "   Gender  Grade  Employed\n",
            "0       0      1         1\n",
            "1       1      2         2\n",
            "2       0      1         2\n",
            "3       1      2         2\n",
            "4       0      1         2\n"
          ]
        }
      ]
    },
    {
      "cell_type": "code",
      "source": [
        "# Read Dataset and import LabelEncoder from sklearn.preprocessing package\n",
        "from sklearn.preprocessing import LabelEncoder\n",
        "\n",
        "print (Banking_Marketing_df.head())"
      ],
      "metadata": {
        "colab": {
          "base_uri": "https://localhost:8080/",
          "height": 399
        },
        "id": "oX35ExUWq001",
        "outputId": "287e6b0a-1552-4743-c76f-9d3d5debfc2d"
      },
      "execution_count": 36,
      "outputs": [
        {
          "output_type": "display_data",
          "data": {
            "text/plain": [
              "<IPython.core.display.HTML object>"
            ],
            "text/html": [
              "\n",
              "  <style>\n",
              "    pre {\n",
              "        white-space: pre-wrap;\n",
              "    }\n",
              "  </style>\n",
              "  "
            ]
          },
          "metadata": {}
        },
        {
          "output_type": "stream",
          "name": "stdout",
          "text": [
            "    age          job  marital          education  default housing loan  \\\n",
            "0  44.0  blue-collar  married           basic.4y  unknown     yes   no   \n",
            "1  53.0   technician  married            unknown       no      no   no   \n",
            "2  28.0   management   single  university.degree       no     yes   no   \n",
            "3  39.0     services  married        high.school       no      no   no   \n",
            "4  55.0      retired  married           basic.4y       no     yes   no   \n",
            "\n",
            "    contact month day_of_week  ...  campaign  pdays  previous     poutcome  \\\n",
            "0  cellular   aug         thu  ...         1    999         0  nonexistent   \n",
            "1  cellular   nov         fri  ...         1    999         0  nonexistent   \n",
            "2  cellular   jun         thu  ...         3      6         2      success   \n",
            "3  cellular   apr         fri  ...         2    999         0  nonexistent   \n",
            "4  cellular   aug         fri  ...         1      3         1      success   \n",
            "\n",
            "  emp_var_rate  cons_price_idx  cons_conf_idx  euribor3m  nr_employed  y  \n",
            "0          1.4          93.444          -36.1      4.963       5228.1  0  \n",
            "1         -0.1          93.200          -42.0      4.021       5195.8  0  \n",
            "2         -1.7          94.055          -39.8      0.729       4991.6  1  \n",
            "3         -1.8          93.075          -47.1      1.405       5099.1  0  \n",
            "4         -2.9          92.201          -31.4      0.869       5076.2  1  \n",
            "\n",
            "[5 rows x 21 columns]\n"
          ]
        }
      ]
    },
    {
      "cell_type": "code",
      "source": [
        "# Remove Missing Data\n",
        "Banking_Marketing_df = Banking_Marketing_df.dropna()"
      ],
      "metadata": {
        "colab": {
          "base_uri": "https://localhost:8080/",
          "height": 17
        },
        "id": "z76i2fwNq9oh",
        "outputId": "619e80ac-012c-4383-8b43-dd122c94d5a0"
      },
      "execution_count": 37,
      "outputs": [
        {
          "output_type": "display_data",
          "data": {
            "text/plain": [
              "<IPython.core.display.HTML object>"
            ],
            "text/html": [
              "\n",
              "  <style>\n",
              "    pre {\n",
              "        white-space: pre-wrap;\n",
              "    }\n",
              "  </style>\n",
              "  "
            ]
          },
          "metadata": {}
        }
      ]
    },
    {
      "cell_type": "code",
      "source": [
        "# Select Non-Numerical Columns\n",
        "data_column_category = Banking_Marketing_df.select_dtypes (exclude=[np.number]).columns\n",
        "print (data_column_category)\n",
        "print (Banking_Marketing_df[data_column_category].head())"
      ],
      "metadata": {
        "colab": {
          "base_uri": "https://localhost:8080/",
          "height": 295
        },
        "id": "-T59sOltq_hk",
        "outputId": "4c172ea5-83d7-4333-cb14-c8f2eb06dfb9"
      },
      "execution_count": 38,
      "outputs": [
        {
          "output_type": "display_data",
          "data": {
            "text/plain": [
              "<IPython.core.display.HTML object>"
            ],
            "text/html": [
              "\n",
              "  <style>\n",
              "    pre {\n",
              "        white-space: pre-wrap;\n",
              "    }\n",
              "  </style>\n",
              "  "
            ]
          },
          "metadata": {}
        },
        {
          "output_type": "stream",
          "name": "stdout",
          "text": [
            "Index(['job', 'marital', 'education', 'default', 'housing', 'loan', 'contact',\n",
            "       'month', 'day_of_week', 'poutcome'],\n",
            "      dtype='object')\n",
            "           job  marital          education  default housing loan   contact  \\\n",
            "0  blue-collar  married           basic.4y  unknown     yes   no  cellular   \n",
            "1   technician  married            unknown       no      no   no  cellular   \n",
            "2   management   single  university.degree       no     yes   no  cellular   \n",
            "3     services  married        high.school       no      no   no  cellular   \n",
            "4      retired  married           basic.4y       no     yes   no  cellular   \n",
            "\n",
            "  month day_of_week     poutcome  \n",
            "0   aug         thu  nonexistent  \n",
            "1   nov         fri  nonexistent  \n",
            "2   jun         thu      success  \n",
            "3   apr         fri  nonexistent  \n",
            "4   aug         fri      success  \n"
          ]
        }
      ]
    },
    {
      "cell_type": "code",
      "source": [
        "# Iterate through column to convert to numeric data using LabelEncoder ()\n",
        "label_encoder = LabelEncoder()\n",
        "for i in data_column_category:\n",
        "    Banking_Marketing_df[i] = label_encoder.fit_transform (Banking_Marketing_df[i])"
      ],
      "metadata": {
        "colab": {
          "base_uri": "https://localhost:8080/",
          "height": 17
        },
        "id": "cEwkfrMQrCC1",
        "outputId": "02e3c970-9d04-4dc2-9f9f-ed674b4aea78"
      },
      "execution_count": 39,
      "outputs": [
        {
          "output_type": "display_data",
          "data": {
            "text/plain": [
              "<IPython.core.display.HTML object>"
            ],
            "text/html": [
              "\n",
              "  <style>\n",
              "    pre {\n",
              "        white-space: pre-wrap;\n",
              "    }\n",
              "  </style>\n",
              "  "
            ]
          },
          "metadata": {}
        }
      ]
    },
    {
      "cell_type": "code",
      "source": [
        "print(\"Label Encoder Data:\")\n",
        "print(Banking_Marketing_df.head())"
      ],
      "metadata": {
        "colab": {
          "base_uri": "https://localhost:8080/",
          "height": 416
        },
        "id": "BlJehsNFrJWe",
        "outputId": "65de6808-276d-4589-80ff-1b1b2eff1534"
      },
      "execution_count": 40,
      "outputs": [
        {
          "output_type": "display_data",
          "data": {
            "text/plain": [
              "<IPython.core.display.HTML object>"
            ],
            "text/html": [
              "\n",
              "  <style>\n",
              "    pre {\n",
              "        white-space: pre-wrap;\n",
              "    }\n",
              "  </style>\n",
              "  "
            ]
          },
          "metadata": {}
        },
        {
          "output_type": "stream",
          "name": "stdout",
          "text": [
            "Label Encoder Data:\n",
            "    age  job  marital  education  default  housing  loan  contact  month  \\\n",
            "0  44.0    1        1          1        1        2     1        0      1   \n",
            "1  53.0    9        1          8        0        0     1        0      7   \n",
            "2  28.0    4        2          7        0        2     1        0      4   \n",
            "3  39.0    7        1          4        0        0     1        0      0   \n",
            "4  55.0    5        1          1        0        2     1        0      1   \n",
            "\n",
            "   day_of_week  ...  campaign  pdays  previous  poutcome  emp_var_rate  \\\n",
            "0            2  ...         1    999         0         1           1.4   \n",
            "1            0  ...         1    999         0         1          -0.1   \n",
            "2            2  ...         3      6         2         2          -1.7   \n",
            "3            0  ...         2    999         0         1          -1.8   \n",
            "4            0  ...         1      3         1         2          -2.9   \n",
            "\n",
            "   cons_price_idx  cons_conf_idx  euribor3m  nr_employed  y  \n",
            "0          93.444          -36.1      4.963       5228.1  0  \n",
            "1          93.200          -42.0      4.021       5195.8  0  \n",
            "2          94.055          -39.8      0.729       4991.6  1  \n",
            "3          93.075          -47.1      1.405       5099.1  0  \n",
            "4          92.201          -31.4      0.869       5076.2  1  \n",
            "\n",
            "[5 rows x 21 columns]\n"
          ]
        }
      ]
    },
    {
      "cell_type": "code",
      "source": [
        "DATA_DIR_5 = \"/content/Wholesale customers data.csv\""
      ],
      "metadata": {
        "id": "ixvwMXtirMiV",
        "colab": {
          "base_uri": "https://localhost:8080/",
          "height": 17
        },
        "outputId": "18752e7a-f4ad-485d-ee86-8d26ea57195d"
      },
      "execution_count": 43,
      "outputs": [
        {
          "output_type": "display_data",
          "data": {
            "text/plain": [
              "<IPython.core.display.HTML object>"
            ],
            "text/html": [
              "\n",
              "  <style>\n",
              "    pre {\n",
              "        white-space: pre-wrap;\n",
              "    }\n",
              "  </style>\n",
              "  "
            ]
          },
          "metadata": {}
        }
      ]
    },
    {
      "cell_type": "code",
      "source": [
        "# Read Dataset\n",
        "from sklearn import preprocessing\n",
        "WholesaleData_df = pd.read_csv (DATA_DIR_5, header=0)\n",
        "print (WholesaleData_df.head())"
      ],
      "metadata": {
        "colab": {
          "base_uri": "https://localhost:8080/",
          "height": 121
        },
        "id": "HEWU30Ytazq2",
        "outputId": "671892a8-c78a-4fb9-dac1-043e96e7d1f0"
      },
      "execution_count": 44,
      "outputs": [
        {
          "output_type": "display_data",
          "data": {
            "text/plain": [
              "<IPython.core.display.HTML object>"
            ],
            "text/html": [
              "\n",
              "  <style>\n",
              "    pre {\n",
              "        white-space: pre-wrap;\n",
              "    }\n",
              "  </style>\n",
              "  "
            ]
          },
          "metadata": {}
        },
        {
          "output_type": "stream",
          "name": "stdout",
          "text": [
            "   Channel  Region  Fresh  Milk  Grocery  Frozen  Detergents_Paper  Delicassen\n",
            "0        2       3  12669  9656     7561     214              2674        1338\n",
            "1        2       3   7057  9810     9568    1762              3293        1776\n",
            "2        2       3   6353  8808     7684    2405              3516        7844\n",
            "3        1       3  13265  1196     4221    6404               507        1788\n",
            "4        2       3  22615  5410     7198    3915              1777        5185\n"
          ]
        }
      ]
    },
    {
      "cell_type": "code",
      "source": [
        "null_ = WholesaleData_df.isna().any()"
      ],
      "metadata": {
        "colab": {
          "base_uri": "https://localhost:8080/",
          "height": 17
        },
        "id": "iVbwxZ_wazvl",
        "outputId": "64c287db-9b89-416c-ec98-2d7c64894ad2"
      },
      "execution_count": 45,
      "outputs": [
        {
          "output_type": "display_data",
          "data": {
            "text/plain": [
              "<IPython.core.display.HTML object>"
            ],
            "text/html": [
              "\n",
              "  <style>\n",
              "    pre {\n",
              "        white-space: pre-wrap;\n",
              "    }\n",
              "  </style>\n",
              "  "
            ]
          },
          "metadata": {}
        }
      ]
    },
    {
      "cell_type": "code",
      "source": [
        "dtypes = WholesaleData_df.dtypes"
      ],
      "metadata": {
        "colab": {
          "base_uri": "https://localhost:8080/",
          "height": 17
        },
        "id": "B6I5XmE2cEIM",
        "outputId": "26111cbf-9250-44a3-db47-66fe3c9cea57"
      },
      "execution_count": 46,
      "outputs": [
        {
          "output_type": "display_data",
          "data": {
            "text/plain": [
              "<IPython.core.display.HTML object>"
            ],
            "text/html": [
              "\n",
              "  <style>\n",
              "    pre {\n",
              "        white-space: pre-wrap;\n",
              "    }\n",
              "  </style>\n",
              "  "
            ]
          },
          "metadata": {}
        }
      ]
    },
    {
      "cell_type": "code",
      "source": [
        "# Check for Missing Data\n",
        "null_ = WholesaleData_df.isna().any()\n",
        "dtypes = WholesaleData_df.dtypes\n",
        "info = pd.concat ([null_,dtypes], axis = 1, keys = ['Null', 'type'])\n",
        "print(info) # This is different way of viewing data"
      ],
      "metadata": {
        "colab": {
          "base_uri": "https://localhost:8080/",
          "height": 173
        },
        "id": "QGB17d01cI7z",
        "outputId": "6e2be2bb-55ec-4187-9ca7-e816a7d7a776"
      },
      "execution_count": 47,
      "outputs": [
        {
          "output_type": "display_data",
          "data": {
            "text/plain": [
              "<IPython.core.display.HTML object>"
            ],
            "text/html": [
              "\n",
              "  <style>\n",
              "    pre {\n",
              "        white-space: pre-wrap;\n",
              "    }\n",
              "  </style>\n",
              "  "
            ]
          },
          "metadata": {}
        },
        {
          "output_type": "stream",
          "name": "stdout",
          "text": [
            "                   Null   type\n",
            "Channel           False  int64\n",
            "Region            False  int64\n",
            "Fresh             False  int64\n",
            "Milk              False  int64\n",
            "Grocery           False  int64\n",
            "Frozen            False  int64\n",
            "Detergents_Paper  False  int64\n",
            "Delicassen        False  int64\n"
          ]
        }
      ]
    },
    {
      "cell_type": "code",
      "source": [
        "# Perform Standard Scaling and Implement fit_transform () method\n",
        "std_scale = preprocessing.StandardScaler().fit_transform (WholesaleData_df)\n",
        "scaled_frame = pd.DataFrame (std_scale, columns = WholesaleData_df.columns)\n",
        "print (scaled_frame.head(25))"
      ],
      "metadata": {
        "colab": {
          "base_uri": "https://localhost:8080/",
          "height": 937
        },
        "id": "cDESgnu4cJ2_",
        "outputId": "0e9b9305-11d3-408c-e130-1323d3677e0c"
      },
      "execution_count": 48,
      "outputs": [
        {
          "output_type": "display_data",
          "data": {
            "text/plain": [
              "<IPython.core.display.HTML object>"
            ],
            "text/html": [
              "\n",
              "  <style>\n",
              "    pre {\n",
              "        white-space: pre-wrap;\n",
              "    }\n",
              "  </style>\n",
              "  "
            ]
          },
          "metadata": {}
        },
        {
          "output_type": "stream",
          "name": "stdout",
          "text": [
            "     Channel    Region     Fresh      Milk   Grocery    Frozen  \\\n",
            "0   1.448652  0.590668  0.052933  0.523568 -0.041115 -0.589367   \n",
            "1   1.448652  0.590668 -0.391302  0.544458  0.170318 -0.270136   \n",
            "2   1.448652  0.590668 -0.447029  0.408538 -0.028157 -0.137536   \n",
            "3  -0.690297  0.590668  0.100111 -0.624020 -0.392977  0.687144   \n",
            "4   1.448652  0.590668  0.840239 -0.052396 -0.079356  0.173859   \n",
            "5   1.448652  0.590668 -0.204806  0.334067 -0.297637 -0.496155   \n",
            "6   1.448652  0.590668  0.009950 -0.352316 -0.102849 -0.534512   \n",
            "7   1.448652  0.590668 -0.349981 -0.113981  0.155359 -0.289315   \n",
            "8  -0.690297  0.590668 -0.477901 -0.291409 -0.185336 -0.545854   \n",
            "9   1.448652  0.590668 -0.474497  0.718495  1.151423 -0.394488   \n",
            "10  1.448652  0.590668 -0.683474 -0.053346  0.529133  0.273876   \n",
            "11  1.448652  0.590668  0.090692 -0.633787 -0.361162 -0.340664   \n",
            "12  1.448652  0.590668  1.560499  0.884800  0.400925 -0.574313   \n",
            "13  1.448652  0.590668  0.729576  0.055851  0.740672  0.004757   \n",
            "14  1.448652  0.590668  1.001564  0.497659  0.436111 -0.572869   \n",
            "15 -0.690297  0.590668 -0.138313 -0.635143 -0.435116 -0.551629   \n",
            "16  1.448652  0.590668 -0.869179  0.409623  0.439272 -0.605865   \n",
            "17 -0.690297  0.590668 -0.484788  0.048933 -0.528665 -0.460479   \n",
            "18  1.448652  0.590668  0.522499  0.071993  0.226258 -0.178780   \n",
            "19 -0.690297  0.590668 -0.334071 -0.447812  0.159362 -0.495536   \n",
            "20  1.448652  0.590668  0.438987 -0.173259 -0.352839 -0.413666   \n",
            "21 -0.690297  0.590668 -0.509248 -0.668106 -0.625901  0.064149   \n",
            "22 -0.690297  0.590668  1.525828 -0.526217 -0.366851  1.306634   \n",
            "23  1.448652  0.590668  1.137716  4.154476  1.482005  0.429367   \n",
            "24  1.448652  0.590668  0.842773  0.539846  0.615308 -0.032363   \n",
            "\n",
            "    Detergents_Paper  Delicassen  \n",
            "0          -0.043569   -0.066339  \n",
            "1           0.086407    0.089151  \n",
            "2           0.133232    2.243293  \n",
            "3          -0.498588    0.093411  \n",
            "4          -0.231918    1.299347  \n",
            "5          -0.228138   -0.026224  \n",
            "6           0.054280   -0.347854  \n",
            "7           0.092286    0.369601  \n",
            "8          -0.244726   -0.275079  \n",
            "9           0.954031    0.203461  \n",
            "10          0.649984    0.077791  \n",
            "11         -0.489769   -0.364894  \n",
            "12          0.209873    0.499176  \n",
            "13          0.803267   -0.327619  \n",
            "14          0.457016    0.228311  \n",
            "15         -0.402629   -0.395069  \n",
            "16          0.341529   -0.157929  \n",
            "17         -0.527355    1.048362  \n",
            "18         -0.024041    0.587926  \n",
            "19         -0.076325   -0.363474  \n",
            "20         -0.130709    0.212691  \n",
            "21         -0.526305   -0.339334  \n",
            "22         -0.105092    0.997242  \n",
            "23          0.305623    5.324340  \n",
            "24          0.336069    1.509862  \n"
          ]
        }
      ]
    },
    {
      "cell_type": "code",
      "source": [
        "# Using MinMax Scaler Method\n",
        "minmax_scale = preprocessing.MinMaxScaler().fit_transform (WholesaleData_df)\n",
        "scaled_frame = pd.DataFrame (minmax_scale, columns = WholesaleData_df.columns)\n",
        "print (scaled_frame.head())"
      ],
      "metadata": {
        "colab": {
          "base_uri": "https://localhost:8080/",
          "height": 243
        },
        "id": "1VbwkF7scOXO",
        "outputId": "8b3b7187-8645-4442-f478-96669c50fbeb"
      },
      "execution_count": 49,
      "outputs": [
        {
          "output_type": "display_data",
          "data": {
            "text/plain": [
              "<IPython.core.display.HTML object>"
            ],
            "text/html": [
              "\n",
              "  <style>\n",
              "    pre {\n",
              "        white-space: pre-wrap;\n",
              "    }\n",
              "  </style>\n",
              "  "
            ]
          },
          "metadata": {}
        },
        {
          "output_type": "stream",
          "name": "stdout",
          "text": [
            "   Channel  Region     Fresh      Milk   Grocery    Frozen  Detergents_Paper  \\\n",
            "0      1.0     1.0  0.112940  0.130727  0.081464  0.003106          0.065427   \n",
            "1      1.0     1.0  0.062899  0.132824  0.103097  0.028548          0.080590   \n",
            "2      1.0     1.0  0.056622  0.119181  0.082790  0.039116          0.086052   \n",
            "3      0.0     1.0  0.118254  0.015536  0.045464  0.104842          0.012346   \n",
            "4      1.0     1.0  0.201626  0.072914  0.077552  0.063934          0.043455   \n",
            "\n",
            "   Delicassen  \n",
            "0    0.027847  \n",
            "1    0.036984  \n",
            "2    0.163559  \n",
            "3    0.037234  \n",
            "4    0.108093  \n"
          ]
        }
      ]
    },
    {
      "cell_type": "code",
      "source": [
        "DATA_DIR_6 = \"/content/Student_bucketing.csv\""
      ],
      "metadata": {
        "colab": {
          "base_uri": "https://localhost:8080/",
          "height": 17
        },
        "id": "DId09wu9cUJH",
        "outputId": "fa154726-43ee-4763-c9ea-62c0ed098237"
      },
      "execution_count": 50,
      "outputs": [
        {
          "output_type": "display_data",
          "data": {
            "text/plain": [
              "<IPython.core.display.HTML object>"
            ],
            "text/html": [
              "\n",
              "  <style>\n",
              "    pre {\n",
              "        white-space: pre-wrap;\n",
              "    }\n",
              "  </style>\n",
              "  "
            ]
          },
          "metadata": {}
        }
      ]
    },
    {
      "cell_type": "code",
      "source": [
        "StudentBucketing_df = pd.read_csv (DATA_DIR_6, header=0)\n",
        "print (StudentBucketing_df.head())"
      ],
      "metadata": {
        "colab": {
          "base_uri": "https://localhost:8080/",
          "height": 121
        },
        "id": "7p6CaIrIcfse",
        "outputId": "65c4504d-8138-4c5e-9640-3e525de839e3"
      },
      "execution_count": 51,
      "outputs": [
        {
          "output_type": "display_data",
          "data": {
            "text/plain": [
              "<IPython.core.display.HTML object>"
            ],
            "text/html": [
              "\n",
              "  <style>\n",
              "    pre {\n",
              "        white-space: pre-wrap;\n",
              "    }\n",
              "  </style>\n",
              "  "
            ]
          },
          "metadata": {}
        },
        {
          "output_type": "stream",
          "name": "stdout",
          "text": [
            "   Student_id  Age      Grade Employed  marks\n",
            "0           1   19  1st Class      yes     29\n",
            "1           2   20  2nd Class       no     41\n",
            "2           3   18  1st Class       no     57\n",
            "3           4   21  2nd Class       no     29\n",
            "4           5   19  1st Class       no     57\n"
          ]
        }
      ]
    },
    {
      "cell_type": "code",
      "source": [
        "# Perform Bucketing using pd.cut ()\n",
        "StudentBucketing_df['bucket']=pd.cut(StudentBucketing_df['marks'], 5, labels = ['Poor', 'Below_average', 'Average', 'Above_Average','Excellent'])"
      ],
      "metadata": {
        "colab": {
          "base_uri": "https://localhost:8080/",
          "height": 17
        },
        "id": "UlJzODONcieR",
        "outputId": "6f9917b7-0186-43ea-ff43-3f4fd9e868c2"
      },
      "execution_count": 52,
      "outputs": [
        {
          "output_type": "display_data",
          "data": {
            "text/plain": [
              "<IPython.core.display.HTML object>"
            ],
            "text/html": [
              "\n",
              "  <style>\n",
              "    pre {\n",
              "        white-space: pre-wrap;\n",
              "    }\n",
              "  </style>\n",
              "  "
            ]
          },
          "metadata": {}
        }
      ]
    },
    {
      "cell_type": "code",
      "source": [
        "print (StudentBucketing_df.head(10))"
      ],
      "metadata": {
        "colab": {
          "base_uri": "https://localhost:8080/",
          "height": 208
        },
        "id": "02YzJvGcclXR",
        "outputId": "d60a82d2-580c-431a-ecf3-2bf79f94aa4b"
      },
      "execution_count": 53,
      "outputs": [
        {
          "output_type": "display_data",
          "data": {
            "text/plain": [
              "<IPython.core.display.HTML object>"
            ],
            "text/html": [
              "\n",
              "  <style>\n",
              "    pre {\n",
              "        white-space: pre-wrap;\n",
              "    }\n",
              "  </style>\n",
              "  "
            ]
          },
          "metadata": {}
        },
        {
          "output_type": "stream",
          "name": "stdout",
          "text": [
            "   Student_id  Age      Grade Employed  marks         bucket\n",
            "0           1   19  1st Class      yes     29           Poor\n",
            "1           2   20  2nd Class       no     41  Below_average\n",
            "2           3   18  1st Class       no     57        Average\n",
            "3           4   21  2nd Class       no     29           Poor\n",
            "4           5   19  1st Class       no     57        Average\n",
            "5           6   20  2nd Class      yes     53        Average\n",
            "6           7   19  3rd Class      yes     78  Above_Average\n",
            "7           8   21  3rd Class      yes     70  Above_Average\n",
            "8           9   22  3rd Class      yes     97      Excellent\n",
            "9          10   21  1st Class       no     58        Average\n"
          ]
        }
      ]
    },
    {
      "cell_type": "code",
      "source": [
        "# Perform Bucketing using pd.cut ()\n",
        "StudentBucketing_df['bucket']=pd.cut(StudentBucketing_df['marks'], 3, labels = ['Poor', 'Average', 'Excellent'])\n",
        "print (StudentBucketing_df.head(10))"
      ],
      "metadata": {
        "colab": {
          "base_uri": "https://localhost:8080/",
          "height": 208
        },
        "id": "O_aD-IQucpTB",
        "outputId": "764ca088-7b71-4503-d02f-b6d04ccc15b5"
      },
      "execution_count": 54,
      "outputs": [
        {
          "output_type": "display_data",
          "data": {
            "text/plain": [
              "<IPython.core.display.HTML object>"
            ],
            "text/html": [
              "\n",
              "  <style>\n",
              "    pre {\n",
              "        white-space: pre-wrap;\n",
              "    }\n",
              "  </style>\n",
              "  "
            ]
          },
          "metadata": {}
        },
        {
          "output_type": "stream",
          "name": "stdout",
          "text": [
            "   Student_id  Age      Grade Employed  marks     bucket\n",
            "0           1   19  1st Class      yes     29       Poor\n",
            "1           2   20  2nd Class       no     41       Poor\n",
            "2           3   18  1st Class       no     57    Average\n",
            "3           4   21  2nd Class       no     29       Poor\n",
            "4           5   19  1st Class       no     57    Average\n",
            "5           6   20  2nd Class      yes     53    Average\n",
            "6           7   19  3rd Class      yes     78  Excellent\n",
            "7           8   21  3rd Class      yes     70    Average\n",
            "8           9   22  3rd Class      yes     97  Excellent\n",
            "9          10   21  1st Class       no     58    Average\n"
          ]
        }
      ]
    }
  ]
}